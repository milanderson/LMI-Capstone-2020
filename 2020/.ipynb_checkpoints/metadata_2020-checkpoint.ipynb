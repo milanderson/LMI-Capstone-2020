{
 "cells": [
  {
   "cell_type": "markdown",
   "metadata": {},
   "source": [
    "# 2020 Data\n",
    "### LMI Capstone Team\n",
    "### Summer Chambers | Steve Morris | Kaleb Shikur"
   ]
  },
  {
   "cell_type": "markdown",
   "metadata": {},
   "source": [
    "## Setup"
   ]
  },
  {
   "cell_type": "code",
   "execution_count": 1,
   "metadata": {},
   "outputs": [],
   "source": [
    "import pandas as pd\n",
    "import numpy as np\n",
    "import json\n",
    "import math\n",
    "from statistics import mode\n",
    "from sklearn.metrics import ndcg_score, f1_score, average_precision_score\n",
    "from matplotlib import pyplot as plt\n",
    "import seaborn as sns\n",
    "import elasticsearch\n",
    "from elasticsearch import Elasticsearch, RequestsHttpConnection, ElasticsearchException\n",
    "import regex as re\n",
    "from bs4 import BeautifulSoup\n",
    "import requests #gets urls\n",
    "import time\n",
    "import csv\n",
    "import os\n",
    "import sys\n",
    "import string\n",
    "from random import sample\n",
    "from sklearn.metrics import f1_score as f1, confusion_matrix as confusion, plot_roc_curve as roc\n",
    "from sklearn.linear_model import LogisticRegression, SGDClassifier\n",
    "from sklearn.feature_extraction.text import CountVectorizer, TfidfVectorizer\n",
    "from sklearn.decomposition import TruncatedSVD\n",
    "from sklearn.ensemble import RandomForestClassifier\n",
    "from sklearn.multioutput import MultiOutputClassifier\n",
    "from sklearn.model_selection import train_test_split\n",
    "import nltk\n",
    "from nltk.tokenize import word_tokenize, TweetTokenizer\n",
    "from nltk import WordNetLemmatizer\n",
    "from nltk.corpus import stopwords\n",
    "import xgboost as xgb\n",
    "from xgboost import plot_importance\n",
    "from nltk.tokenize.treebank import TreebankWordTokenizer\n",
    "from nltk.stem.porter import PorterStemmer"
   ]
  },
  {
   "cell_type": "code",
   "execution_count": 9,
   "metadata": {},
   "outputs": [],
   "source": [
    "# 173.79.72.92, port 9200\n",
    "# host = '173.79.72.92'\n",
    "endpoint = 'https://search-lmi-capstone-2-525zkk33t4z5iy6ozqd63ctgmq.us-east-1.es.amazonaws.com'"
   ]
  },
  {
   "cell_type": "code",
   "execution_count": 10,
   "metadata": {},
   "outputs": [
    {
     "name": "stdout",
     "output_type": "stream",
     "text": [
      "{'name': 'eb7b3348d3c34ce7dc22f263930c51ad', 'cluster_name': '846033058400:lmi-capstone-2', 'cluster_uuid': 'QzTffcNgStmet053IRSP2w', 'version': {'number': '7.9.1', 'build_flavor': 'oss', 'build_type': 'tar', 'build_hash': 'unknown', 'build_date': '2020-11-03T09:54:32.349659Z', 'build_snapshot': False, 'lucene_version': '8.6.2', 'minimum_wire_compatibility_version': '6.8.0', 'minimum_index_compatibility_version': '6.0.0-beta1'}, 'tagline': 'You Know, for Search'}\n"
     ]
    }
   ],
   "source": [
    "#es = Elasticsearch(endpoint, timeout = 45)\n",
    "es = Elasticsearch(endpoint, timeout=600, max_retries=2, retry_on_timeout=True)\n",
    "\n",
    "\n",
    "\n",
    "print(es.info())\n",
    "\n",
    "# es = Elasticsearch(\n",
    "#     hosts=[{'host': host, 'port': 443}],\n",
    "#     http_auth=auth,\n",
    "#     use_ssl=True,\n",
    "#     verify_certs=True,\n",
    "#     connection_class=RequestsHttpConnection\n",
    "# )\n",
    "# print(es.info())"
   ]
  },
  {
   "cell_type": "markdown",
   "metadata": {},
   "source": [
    "## True Sections"
   ]
  },
  {
   "cell_type": "code",
   "execution_count": 18,
   "metadata": {},
   "outputs": [],
   "source": [
    "metadata_url = \"https://mikeanders.org/data/CMS/CMS-2020-0088-1604/CMS-2020-0088-1604%20Comment%20MetaData.xlsx\"\n",
    "data = pd.read_excel(metadata_url)\n",
    "data = data.replace([\"EUC Policy for 2021\", \"Comment Solicitation: EUC Policy for 2022 and beyond\"], \\\n",
    "             \"Comment Solicitation: EUC Policy for 2021 and beyond\") #combining two sections that can't be split in rule\n",
    "data = data.loc[data.Topic.notnull()]\n",
    "data[\"comment_id\"] = [i for i, comment in enumerate(data.Primary)]"
   ]
  },
  {
   "cell_type": "code",
   "execution_count": 19,
   "metadata": {},
   "outputs": [
    {
     "data": {
      "text/html": [
       "<div>\n",
       "<style scoped>\n",
       "    .dataframe tbody tr th:only-of-type {\n",
       "        vertical-align: middle;\n",
       "    }\n",
       "\n",
       "    .dataframe tbody tr th {\n",
       "        vertical-align: top;\n",
       "    }\n",
       "\n",
       "    .dataframe thead th {\n",
       "        text-align: right;\n",
       "    }\n",
       "</style>\n",
       "<table border=\"1\" class=\"dataframe\">\n",
       "  <thead>\n",
       "    <tr style=\"text-align: right;\">\n",
       "      <th></th>\n",
       "      <th>Primary</th>\n",
       "      <th>Tracking Number</th>\n",
       "      <th>Organization</th>\n",
       "      <th>Topic</th>\n",
       "      <th>Supportive?</th>\n",
       "      <th>Comment text</th>\n",
       "      <th>Unique Flag</th>\n",
       "      <th>HeavyHitter</th>\n",
       "      <th>Modified</th>\n",
       "      <th>Form Letter?</th>\n",
       "      <th>FormLetter Y/N</th>\n",
       "      <th>Sheet Name</th>\n",
       "      <th>comment_id</th>\n",
       "    </tr>\n",
       "  </thead>\n",
       "  <tbody>\n",
       "    <tr>\n",
       "      <th>0</th>\n",
       "      <td>CMS-2020-0088-9495</td>\n",
       "      <td>1k4-9ivz-162j</td>\n",
       "      <td>MarsdenAdvisors</td>\n",
       "      <td>Applying the APM APP to SSP ACOs</td>\n",
       "      <td>Mixed</td>\n",
       "      <td>We are part of a MIPS APM that consistently sc...</td>\n",
       "      <td>1</td>\n",
       "      <td>NaN</td>\n",
       "      <td>2020-09-14 14:32:16</td>\n",
       "      <td>NaN</td>\n",
       "      <td>NaN</td>\n",
       "      <td>Liz Tracker</td>\n",
       "      <td>0</td>\n",
       "    </tr>\n",
       "    <tr>\n",
       "      <th>1</th>\n",
       "      <td>CMS-2020-0088-9494</td>\n",
       "      <td>1k4-9ivz-50bx</td>\n",
       "      <td>MarsdenAdvisors</td>\n",
       "      <td>Applying the APM APP to SSP ACOs</td>\n",
       "      <td>Mixed</td>\n",
       "      <td>We are part of a MIPS APM that consistently sc...</td>\n",
       "      <td>1</td>\n",
       "      <td>NaN</td>\n",
       "      <td>2020-09-14 14:32:16</td>\n",
       "      <td>NaN</td>\n",
       "      <td>NaN</td>\n",
       "      <td>Liz Tracker</td>\n",
       "      <td>1</td>\n",
       "    </tr>\n",
       "    <tr>\n",
       "      <th>2</th>\n",
       "      <td>CMS-2020-0088-8582</td>\n",
       "      <td>kev-e48h-ghk4</td>\n",
       "      <td>Kari Kerstetter</td>\n",
       "      <td>Applying the APM APP to SSP ACOs</td>\n",
       "      <td>Opposed</td>\n",
       "      <td>Thank you for the opportunity to provide publi...</td>\n",
       "      <td>1</td>\n",
       "      <td>NaN</td>\n",
       "      <td>2020-10-09 11:23:30</td>\n",
       "      <td>NaN</td>\n",
       "      <td>NaN</td>\n",
       "      <td>Dylan Tracker</td>\n",
       "      <td>2</td>\n",
       "    </tr>\n",
       "    <tr>\n",
       "      <th>3</th>\n",
       "      <td>CMS-2020-0088-8582</td>\n",
       "      <td>kev-e48h-ghk4</td>\n",
       "      <td>Kari Kerstetter</td>\n",
       "      <td>Revising the SSP Quality Performance Standard</td>\n",
       "      <td>Opposed</td>\n",
       "      <td>...In addition, the move to a 4th decile ACO q...</td>\n",
       "      <td>0</td>\n",
       "      <td>NaN</td>\n",
       "      <td>2020-10-09 11:23:30</td>\n",
       "      <td>NaN</td>\n",
       "      <td>NaN</td>\n",
       "      <td>Dylan Tracker</td>\n",
       "      <td>3</td>\n",
       "    </tr>\n",
       "    <tr>\n",
       "      <th>4</th>\n",
       "      <td>CMS-2020-0088-31162</td>\n",
       "      <td>1k4-9jcr-57bp</td>\n",
       "      <td>PBACO Holding, LLC (PBACO)</td>\n",
       "      <td>Applying the APM APP to SSP ACOs</td>\n",
       "      <td>Opposed</td>\n",
       "      <td>We respectfully decline from supporting CMS pr...</td>\n",
       "      <td>1</td>\n",
       "      <td>NaN</td>\n",
       "      <td>2020-10-08 18:18:49</td>\n",
       "      <td>NaN</td>\n",
       "      <td>NaN</td>\n",
       "      <td>Eric Tracker</td>\n",
       "      <td>4</td>\n",
       "    </tr>\n",
       "    <tr>\n",
       "      <th>...</th>\n",
       "      <td>...</td>\n",
       "      <td>...</td>\n",
       "      <td>...</td>\n",
       "      <td>...</td>\n",
       "      <td>...</td>\n",
       "      <td>...</td>\n",
       "      <td>...</td>\n",
       "      <td>...</td>\n",
       "      <td>...</td>\n",
       "      <td>...</td>\n",
       "      <td>...</td>\n",
       "      <td>...</td>\n",
       "      <td>...</td>\n",
       "    </tr>\n",
       "    <tr>\n",
       "      <th>530</th>\n",
       "      <td>CMS-2020-0088-10352</td>\n",
       "      <td>kf2-z7zt-wvsk</td>\n",
       "      <td>American College of Cardiology (ACC)</td>\n",
       "      <td>Other: Unsolicited</td>\n",
       "      <td>Other - Unsolicited</td>\n",
       "      <td>In addition, the ACC requests more clarity on ...</td>\n",
       "      <td>0</td>\n",
       "      <td>NaN</td>\n",
       "      <td>2020-09-23 17:46:39</td>\n",
       "      <td>NaN</td>\n",
       "      <td>NaN</td>\n",
       "      <td>Eric Tracker</td>\n",
       "      <td>528</td>\n",
       "    </tr>\n",
       "    <tr>\n",
       "      <th>531</th>\n",
       "      <td>CMS-2020-0088-10352</td>\n",
       "      <td>kf2-z7zt-wvsk</td>\n",
       "      <td>American College of Cardiology (ACC)</td>\n",
       "      <td>Applying the APM APP to SSP ACOs</td>\n",
       "      <td>Mixed</td>\n",
       "      <td>Phase-In of APP\\n\\nCMS proposes to require the...</td>\n",
       "      <td>0</td>\n",
       "      <td>NaN</td>\n",
       "      <td>2020-10-09 11:25:29</td>\n",
       "      <td>NaN</td>\n",
       "      <td>NaN</td>\n",
       "      <td>Eric Tracker</td>\n",
       "      <td>529</td>\n",
       "    </tr>\n",
       "    <tr>\n",
       "      <th>532</th>\n",
       "      <td>CMS-2020-0088-0075</td>\n",
       "      <td>kdt-1riv-ywkl</td>\n",
       "      <td>Mary Washington Health Alliance</td>\n",
       "      <td>Updating Primary Care Services Definition for ...</td>\n",
       "      <td>Supportive</td>\n",
       "      <td>I am the Medical Director of the Mary Washingt...</td>\n",
       "      <td>1</td>\n",
       "      <td>NaN</td>\n",
       "      <td>2020-08-14 15:29:04</td>\n",
       "      <td>NaN</td>\n",
       "      <td>NaN</td>\n",
       "      <td>Dylan Tracker</td>\n",
       "      <td>530</td>\n",
       "    </tr>\n",
       "    <tr>\n",
       "      <th>533</th>\n",
       "      <td>CMS-2020-0088-0029</td>\n",
       "      <td>kdj-2v1r-x4wk</td>\n",
       "      <td>Cynthia Munshell</td>\n",
       "      <td>Other: Unsolicited</td>\n",
       "      <td>Other - Unsolicited</td>\n",
       "      <td>(UNCLEAR IF SSP) I am writing to recommend tha...</td>\n",
       "      <td>1</td>\n",
       "      <td>NaN</td>\n",
       "      <td>2020-08-14 15:20:52</td>\n",
       "      <td>NaN</td>\n",
       "      <td>NaN</td>\n",
       "      <td>Dylan Tracker</td>\n",
       "      <td>531</td>\n",
       "    </tr>\n",
       "    <tr>\n",
       "      <th>534</th>\n",
       "      <td>CMS-2020-0088-0017</td>\n",
       "      <td>1k4-9ial-4pyr</td>\n",
       "      <td>Stephen Bushay, Atlanticare</td>\n",
       "      <td>Updating Primary Care Services Definition for ...</td>\n",
       "      <td>Supportive</td>\n",
       "      <td>CMS needs to continue to pay for Telehealth fo...</td>\n",
       "      <td>1</td>\n",
       "      <td>NaN</td>\n",
       "      <td>2020-08-26 13:54:45</td>\n",
       "      <td>NaN</td>\n",
       "      <td>NaN</td>\n",
       "      <td>Dylan Tracker</td>\n",
       "      <td>532</td>\n",
       "    </tr>\n",
       "  </tbody>\n",
       "</table>\n",
       "<p>533 rows × 13 columns</p>\n",
       "</div>"
      ],
      "text/plain": [
       "                 Primary Tracking Number  \\\n",
       "0     CMS-2020-0088-9495   1k4-9ivz-162j   \n",
       "1     CMS-2020-0088-9494   1k4-9ivz-50bx   \n",
       "2     CMS-2020-0088-8582   kev-e48h-ghk4   \n",
       "3     CMS-2020-0088-8582   kev-e48h-ghk4   \n",
       "4    CMS-2020-0088-31162   1k4-9jcr-57bp   \n",
       "..                   ...             ...   \n",
       "530  CMS-2020-0088-10352   kf2-z7zt-wvsk   \n",
       "531  CMS-2020-0088-10352   kf2-z7zt-wvsk   \n",
       "532   CMS-2020-0088-0075   kdt-1riv-ywkl   \n",
       "533   CMS-2020-0088-0029   kdj-2v1r-x4wk   \n",
       "534   CMS-2020-0088-0017   1k4-9ial-4pyr   \n",
       "\n",
       "                             Organization  \\\n",
       "0                         MarsdenAdvisors   \n",
       "1                         MarsdenAdvisors   \n",
       "2                         Kari Kerstetter   \n",
       "3                         Kari Kerstetter   \n",
       "4              PBACO Holding, LLC (PBACO)   \n",
       "..                                    ...   \n",
       "530  American College of Cardiology (ACC)   \n",
       "531  American College of Cardiology (ACC)   \n",
       "532       Mary Washington Health Alliance   \n",
       "533                      Cynthia Munshell   \n",
       "534           Stephen Bushay, Atlanticare   \n",
       "\n",
       "                                                 Topic          Supportive?  \\\n",
       "0                     Applying the APM APP to SSP ACOs                Mixed   \n",
       "1                     Applying the APM APP to SSP ACOs                Mixed   \n",
       "2                     Applying the APM APP to SSP ACOs              Opposed   \n",
       "3        Revising the SSP Quality Performance Standard              Opposed   \n",
       "4                     Applying the APM APP to SSP ACOs              Opposed   \n",
       "..                                                 ...                  ...   \n",
       "530                                 Other: Unsolicited  Other - Unsolicited   \n",
       "531                   Applying the APM APP to SSP ACOs                Mixed   \n",
       "532  Updating Primary Care Services Definition for ...           Supportive   \n",
       "533                                 Other: Unsolicited  Other - Unsolicited   \n",
       "534  Updating Primary Care Services Definition for ...           Supportive   \n",
       "\n",
       "                                          Comment text  Unique Flag  \\\n",
       "0    We are part of a MIPS APM that consistently sc...            1   \n",
       "1    We are part of a MIPS APM that consistently sc...            1   \n",
       "2    Thank you for the opportunity to provide publi...            1   \n",
       "3    ...In addition, the move to a 4th decile ACO q...            0   \n",
       "4    We respectfully decline from supporting CMS pr...            1   \n",
       "..                                                 ...          ...   \n",
       "530  In addition, the ACC requests more clarity on ...            0   \n",
       "531  Phase-In of APP\\n\\nCMS proposes to require the...            0   \n",
       "532  I am the Medical Director of the Mary Washingt...            1   \n",
       "533  (UNCLEAR IF SSP) I am writing to recommend tha...            1   \n",
       "534  CMS needs to continue to pay for Telehealth fo...            1   \n",
       "\n",
       "     HeavyHitter            Modified  Form Letter?  FormLetter Y/N  \\\n",
       "0            NaN 2020-09-14 14:32:16           NaN             NaN   \n",
       "1            NaN 2020-09-14 14:32:16           NaN             NaN   \n",
       "2            NaN 2020-10-09 11:23:30           NaN             NaN   \n",
       "3            NaN 2020-10-09 11:23:30           NaN             NaN   \n",
       "4            NaN 2020-10-08 18:18:49           NaN             NaN   \n",
       "..           ...                 ...           ...             ...   \n",
       "530          NaN 2020-09-23 17:46:39           NaN             NaN   \n",
       "531          NaN 2020-10-09 11:25:29           NaN             NaN   \n",
       "532          NaN 2020-08-14 15:29:04           NaN             NaN   \n",
       "533          NaN 2020-08-14 15:20:52           NaN             NaN   \n",
       "534          NaN 2020-08-26 13:54:45           NaN             NaN   \n",
       "\n",
       "        Sheet Name  comment_id  \n",
       "0      Liz Tracker           0  \n",
       "1      Liz Tracker           1  \n",
       "2    Dylan Tracker           2  \n",
       "3    Dylan Tracker           3  \n",
       "4     Eric Tracker           4  \n",
       "..             ...         ...  \n",
       "530   Eric Tracker         528  \n",
       "531   Eric Tracker         529  \n",
       "532  Dylan Tracker         530  \n",
       "533  Dylan Tracker         531  \n",
       "534  Dylan Tracker         532  \n",
       "\n",
       "[533 rows x 13 columns]"
      ]
     },
     "execution_count": 19,
     "metadata": {},
     "output_type": "execute_result"
    }
   ],
   "source": [
    "data"
   ]
  },
  {
   "cell_type": "markdown",
   "metadata": {},
   "source": [
    "### Topic Count"
   ]
  },
  {
   "cell_type": "code",
   "execution_count": 20,
   "metadata": {},
   "outputs": [
    {
     "data": {
      "text/plain": [
       "Applying the APM APP to SSP ACOs                                                             245\n",
       "Revising the SSP Quality Performance Standard                                                 71\n",
       "Updating Primary Care Services Definition for Assignment                                      48\n",
       "Comment Solicitation: EUC Policy for 2020                                                     41\n",
       "Proposed Changes to CAHPS for 2020                                                            33\n",
       "Comment Solicitation: EUC Policy for 2021 and beyond                                          29\n",
       "Other: Unsolicited                                                                            25\n",
       "Quality Redesign: Use of ACO Quality Performance in Determining Shared Savings and Losses     16\n",
       "Revising Policy for Determining the Amount of Repayment Mechanism                             15\n",
       "Applicability of Policies to Track 1+ Model ACOs                                               4\n",
       "Quality Redesign: Compliance with the Quality Performance Standard                             3\n",
       "Updating the Process Used to validate ACO Quality Data Reporting                               2\n",
       "Quality Redesign: Proposed Technical Changes to Quality Regulation Text                        1\n",
       "Name: Topic, dtype: int64"
      ]
     },
     "execution_count": 20,
     "metadata": {},
     "output_type": "execute_result"
    }
   ],
   "source": [
    "data.Topic.value_counts()"
   ]
  },
  {
   "cell_type": "markdown",
   "metadata": {},
   "source": [
    "## Rule-Splitting"
   ]
  },
  {
   "cell_type": "code",
   "execution_count": 37,
   "metadata": {},
   "outputs": [],
   "source": [
    "rule_url = \"https://mikeanders.org/data/CMS/CMS-2020-0088-1604/Rule/CMS-2020-0088-1604.txt\""
   ]
  },
  {
   "cell_type": "code",
   "execution_count": 38,
   "metadata": {},
   "outputs": [],
   "source": [
    "startdict = {\"Applying the APM APP to SSP ACOs\": [\"b. Applying the Alternative Payment Model (APM) Performance Pathway (APP) to Shared Savings Program ACOs\", \\\n",
    "                                                  \"c. Shared Savings Program Quality Performance Standard\"], \\\n",
    "           \"Revising the SSP Quality Performance Standard\": [\"c. Shared Savings Program Quality Performance Standard\", \\\n",
    "                                                             \"d. Use of ACO Quality Performance in Determining Shared Savings and Shared Losses\"], \\\n",
    "           \"Comment Solicitation: EUC Policy for 2020\": [\"2. Comment Solicitation on Modifications to the Extreme and Uncontrollable Circumstances Policy for Performance Year 2020\", \\\n",
    "                                                         \"J. Proposal To Remove Selected National Coverage Determinations\"], \\\n",
    "           \"Updating Primary Care Services Definition for Assignment\": [\"2. Revisions to the Definition of Primary Care Services used in Shared Savings Program Beneficiary Assignment\", \\\n",
    "                                                                        \"3. Reducing the Amount of Repayment Mechanisms for Eligible ACOs\"], \\\n",
    "           \"Quality Redesign: Use of ACO Quality Performance in Determining Shared Savings and Losses\": [\"d. Use of ACO Quality Performance in Determining Shared Savings and Shared Losses\", \\\n",
    "                                                                                                         \"e. Compliance With the Quality Performance Standard\"], \\\n",
    "           \"Quality Redesign: Compliance with the Quality Performance Standard\": [\"e. Compliance With the Quality Performance Standard\", \\\n",
    "                                                                                  \"f. Updating the Process Used To Validate ACO Quality Data Reporting\"], \\\n",
    "           \"Proposed Changes to CAHPS for 2020\": [\"1. Proposed Changes to the CAHPS for ACOs Reporting Requirements for Performance Year 2020\", \\\n",
    "                                                  \"2. Comment Solicitation on Modifications to the Extreme and Uncontrollable Circumstances Policy for Performance Year 2020\"], \\\n",
    "           \"Applicability of Policies to Track 1+ Model ACOs\": [\"4. Applicability of Policies to Track 1+ Model ACOs\", \\\n",
    "                                                                \"I. Modifications to Quality Reporting Requirements and Comment Solicitation on Modifications to the Extreme and Uncontrollable Circumstances Policy for Performance Year 2020\"], \\\n",
    "           \"Revising Policy for Determining the Amount of Repayment Mechanism\": [\"3. Reducing the Amount of Repayment Mechanisms for Eligible ACOs\", \\\n",
    "                                                                                 \"4. Applicability of Policies to Track 1+ Model ACOs\"], \\\n",
    "           \"Quality Redesign: Proposed Technical Changes to Quality Regulation Text\":  [\"h. Proposed Technical Changes To Incorporate References to Revised Quality Performance Standard\", \\\n",
    "                                                                                        \"2. Revisions to the Definition of Primary Care Services Used in Shared Savings Program Beneficiary Assignment\"], \\\n",
    "           \"Comment Solicitation: EUC Policy for 2021 and beyond\": [\"g. Changes to the Extreme and Uncontrollable Circumstances Policy for Performance Year 2021\", \\\n",
    "                                                                    \"h. Proposed Technical Changes To Incorporate References to Revised Quality Performance Standard\"], \\\n",
    "           \"Updating the Process Used to validate ACO Quality Data Reporting\": [\"f. Updating the Process Used To Validate ACO Quality Data Reporting\", \\\n",
    "                                                                                \"g. Changes to the Extreme and Uncontrollable Circumstances Policy for Performance Year 2021\"] }"
   ]
  },
  {
   "cell_type": "markdown",
   "metadata": {},
   "source": [
    "## Headers Split"
   ]
  },
  {
   "cell_type": "code",
   "execution_count": 39,
   "metadata": {},
   "outputs": [],
   "source": [
    "def splitRule_headers(rule_url, startdict):\n",
    "\n",
    "    alltxt = requests.get(rule_url).text.lower()#.encode('unicode_escape').decode() #encodes like raw strings\n",
    "    for key in startdict.keys():\n",
    "        startdict[key] = [val.lower() for val in startdict[key]]\n",
    "    \n",
    "    rulechunks = []\n",
    "    \n",
    "    for key, value in startdict.items():    \n",
    "       splitlist = alltxt.split(value[0]) #split on start of desired section\n",
    "       split_further = splitlist[1].split(value[1]) #split again on start of undesired section\n",
    "       rulechunks.append({\"section\": key, \"text\": (value[0]+split_further[0])}) #choose only first half to upload to dict\n",
    "\n",
    "    return rulechunks"
   ]
  },
  {
   "cell_type": "code",
   "execution_count": 40,
   "metadata": {},
   "outputs": [
    {
     "name": "stdout",
     "output_type": "stream",
     "text": [
      "sections: 12\n"
     ]
    },
    {
     "data": {
      "text/plain": [
       "{'Applying the APM APP to SSP ACOs': 23299,\n",
       " 'Revising the SSP Quality Performance Standard': 7592,\n",
       " 'Comment Solicitation: EUC Policy for 2020': 10933,\n",
       " 'Updating Primary Care Services Definition for Assignment': 45692,\n",
       " 'Quality Redesign: Use of ACO Quality Performance in Determining Shared Savings and Losses': 9614,\n",
       " 'Quality Redesign: Compliance with the Quality Performance Standard': 18527,\n",
       " 'Proposed Changes to CAHPS for 2020': 8890,\n",
       " 'Applicability of Policies to Track 1+ Model ACOs': 9995,\n",
       " 'Revising Policy for Determining the Amount of Repayment Mechanism': 22281,\n",
       " 'Quality Redesign: Proposed Technical Changes to Quality Regulation Text': 3041,\n",
       " 'Comment Solicitation: EUC Policy for 2021 and beyond': 11322,\n",
       " 'Updating the Process Used to validate ACO Quality Data Reporting': 2638}"
      ]
     },
     "execution_count": 40,
     "metadata": {},
     "output_type": "execute_result"
    }
   ],
   "source": [
    "split1 = splitRule_headers(rule_url, startdict)\n",
    "headers_id_list = [doc[\"section\"] for doc in split1]\n",
    "lengths = {chunk[\"section\"]: len(chunk[\"text\"]) for chunk in split1}\n",
    "print(\"sections:\", len(lengths))\n",
    "lengths"
   ]
  },
  {
   "cell_type": "markdown",
   "metadata": {},
   "source": [
    "## Hybrid Split"
   ]
  },
  {
   "cell_type": "code",
   "execution_count": 41,
   "metadata": {},
   "outputs": [],
   "source": [
    "def splitRule_line_hybrid(rule_url):\n",
    "    new_rule_chunks = []\n",
    "    chunks = splitRule_headers(rule_url, startdict)\n",
    "    for doc in chunks:\n",
    "        paragraphs = doc[\"text\"].split('\\r\\n')\n",
    "        #add new lines while under 6000 characters\n",
    "        for i in range(len(paragraphs) - 1):\n",
    "            while i < (len(paragraphs)-1) and len(paragraphs[i]) < 6000:\n",
    "                paragraphs[i] += paragraphs[i+1]\n",
    "                del(paragraphs[i+1])\n",
    "        for i in range(len(paragraphs)):\n",
    "            new_rule_chunks.append({\"section\": doc[\"section\"]+\"_\"+str(i), \"text\": paragraphs[i]})\n",
    "    return new_rule_chunks"
   ]
  },
  {
   "cell_type": "code",
   "execution_count": 42,
   "metadata": {},
   "outputs": [
    {
     "name": "stdout",
     "output_type": "stream",
     "text": [
      "sections: 32\n"
     ]
    },
    {
     "data": {
      "text/plain": [
       "{'Applying the APM APP to SSP ACOs_0': 6267,\n",
       " 'Applying the APM APP to SSP ACOs_1': 8189,\n",
       " 'Applying the APM APP to SSP ACOs_2': 6735,\n",
       " 'Applying the APM APP to SSP ACOs_3': 2046,\n",
       " 'Revising the SSP Quality Performance Standard_0': 6873,\n",
       " 'Revising the SSP Quality Performance Standard_1': 703,\n",
       " 'Comment Solicitation: EUC Policy for 2020_0': 6352,\n",
       " 'Comment Solicitation: EUC Policy for 2020_1': 4557,\n",
       " 'Updating Primary Care Services Definition for Assignment_0': 6489,\n",
       " 'Updating Primary Care Services Definition for Assignment_1': 6307,\n",
       " 'Updating Primary Care Services Definition for Assignment_2': 6107,\n",
       " 'Updating Primary Care Services Definition for Assignment_3': 8129,\n",
       " 'Updating Primary Care Services Definition for Assignment_4': 7356,\n",
       " 'Updating Primary Care Services Definition for Assignment_5': 6711,\n",
       " 'Updating Primary Care Services Definition for Assignment_6': 4391,\n",
       " 'Quality Redesign: Use of ACO Quality Performance in Determining Shared Savings and Losses_0': 6169,\n",
       " 'Quality Redesign: Use of ACO Quality Performance in Determining Shared Savings and Losses_1': 3403,\n",
       " 'Quality Redesign: Compliance with the Quality Performance Standard_0': 6853,\n",
       " 'Quality Redesign: Compliance with the Quality Performance Standard_1': 6576,\n",
       " 'Quality Redesign: Compliance with the Quality Performance Standard_2': 5052,\n",
       " 'Proposed Changes to CAHPS for 2020_0': 6362,\n",
       " 'Proposed Changes to CAHPS for 2020_1': 2508,\n",
       " 'Applicability of Policies to Track 1+ Model ACOs_0': 6121,\n",
       " 'Applicability of Policies to Track 1+ Model ACOs_1': 3840,\n",
       " 'Revising Policy for Determining the Amount of Repayment Mechanism_0': 7405,\n",
       " 'Revising Policy for Determining the Amount of Repayment Mechanism_1': 7046,\n",
       " 'Revising Policy for Determining the Amount of Repayment Mechanism_2': 6673,\n",
       " 'Revising Policy for Determining the Amount of Repayment Mechanism_3': 1103,\n",
       " 'Quality Redesign: Proposed Technical Changes to Quality Regulation Text_0': 3023,\n",
       " 'Comment Solicitation: EUC Policy for 2021 and beyond_0': 6323,\n",
       " 'Comment Solicitation: EUC Policy for 2021 and beyond_1': 4981,\n",
       " 'Updating the Process Used to validate ACO Quality Data Reporting_0': 2630}"
      ]
     },
     "execution_count": 42,
     "metadata": {},
     "output_type": "execute_result"
    }
   ],
   "source": [
    "split2 = splitRule_line_hybrid(rule_url)\n",
    "hybrid_id_list = [doc[\"section\"] for doc in split2]\n",
    "lengths = {chunk[\"section\"]: len(chunk[\"text\"]) for chunk in split2}\n",
    "print(\"sections:\", len(lengths))\n",
    "lengths"
   ]
  },
  {
   "cell_type": "markdown",
   "metadata": {},
   "source": [
    "## Upload Splits to ES"
   ]
  },
  {
   "cell_type": "code",
   "execution_count": 13,
   "metadata": {},
   "outputs": [],
   "source": [
    "##es.indices.delete(index='2020headers_1shard', ignore=[400, 404])"
   ]
  },
  {
   "cell_type": "code",
   "execution_count": 43,
   "metadata": {},
   "outputs": [],
   "source": [
    "def rulesplit_toES(rulechunks, es_index):\n",
    "    for chunk in rulechunks:\n",
    "            res = es.index(index=es_index, id=chunk[\"section\"], body=chunk, doc_type='_doc')\n",
    "            es.indices.refresh(index=es_index)\n",
    "    print(\"Last id uploaded:\", chunk[\"section\"])"
   ]
  },
  {
   "cell_type": "code",
   "execution_count": 12,
   "metadata": {},
   "outputs": [
    {
     "name": "stdout",
     "output_type": "stream",
     "text": [
      "Last id uploaded: Updating the Process Used to validate ACO Quality Data Reporting\n"
     ]
    }
   ],
   "source": [
    "rulesplit_1shard = splitRule_headers(rule_url, startdict)\n",
    "upload_1shard = rulesplit_toES(rulesplit_1shard, \"2020headers_1shard\")"
   ]
  },
  {
   "cell_type": "code",
   "execution_count": 44,
   "metadata": {},
   "outputs": [
    {
     "name": "stdout",
     "output_type": "stream",
     "text": [
      "Last id uploaded: Updating the Process Used to validate ACO Quality Data Reporting_0\n"
     ]
    }
   ],
   "source": [
    "rulesplit_1shard = splitRule_line_hybrid(rule_url)\n",
    "upload_1shard = rulesplit_toES(rulesplit_1shard, \"2020hybrid_nosyn_custstop\")"
   ]
  },
  {
   "cell_type": "markdown",
   "metadata": {},
   "source": [
    "## Term Vectors "
   ]
  },
  {
   "cell_type": "markdown",
   "metadata": {},
   "source": [
    "#### Get top common words"
   ]
  },
  {
   "cell_type": "code",
   "execution_count": 217,
   "metadata": {},
   "outputs": [],
   "source": [
    "termVectorBody = {\n",
    "  \"fields\" : [\"text\"],\n",
    "  \"term_statistics\" : True,\n",
    "  \"field_statistics\" : True,\n",
    "  \"offsets\" : False,\n",
    "  \"payloads\" : False,\n",
    "  \"positions\" : False,\n",
    "    \"filter\": {\n",
    "    \"max_num_terms\": 30,\n",
    "    \"min_term_freq\": 1,\n",
    "    \"min_doc_freq\": 11 ## 90% of documents\n",
    "  }\n",
    "}"
   ]
  },
  {
   "cell_type": "code",
   "execution_count": 218,
   "metadata": {},
   "outputs": [],
   "source": [
    "termvecs = dict()\n",
    "for section in headers_id_list:\n",
    "    result = es.termvectors(index = \"2020headers_1shard\", id = section, body= termVectorBody)\n",
    "    termvecs[section] = list(result['term_vectors']['text']['terms'].keys())"
   ]
  },
  {
   "cell_type": "code",
   "execution_count": 219,
   "metadata": {},
   "outputs": [
    {
     "data": {
      "text/plain": [
       "['cms',\n",
       " '3',\n",
       " 'subsequent',\n",
       " 'eligible',\n",
       " 'requirements',\n",
       " '1',\n",
       " 'year',\n",
       " 'performance',\n",
       " 'proposed',\n",
       " 'program',\n",
       " 'data',\n",
       " 'shared',\n",
       " 'current',\n",
       " 'savings',\n",
       " 'years',\n",
       " 'aco',\n",
       " 'acos',\n",
       " '2',\n",
       " 'period',\n",
       " '2021',\n",
       " 'beginning']"
      ]
     },
     "execution_count": 219,
     "metadata": {},
     "output_type": "execute_result"
    }
   ],
   "source": [
    "common_words = [value for key, value in termvecs.items()]\n",
    "common_words = list(set([word for list1 in common_words for word in list1]))\n",
    "common_words"
   ]
  },
  {
   "cell_type": "markdown",
   "metadata": {},
   "source": [
    "#### Examine top words"
   ]
  },
  {
   "cell_type": "code",
   "execution_count": 220,
   "metadata": {},
   "outputs": [],
   "source": [
    "termVectorBody = {\n",
    "  \"fields\" : [\"text\"],\n",
    "  \"term_statistics\" : True,\n",
    "  \"field_statistics\" : True,\n",
    "  \"offsets\" : False,\n",
    "  \"payloads\" : False,\n",
    "  \"positions\" : False,\n",
    "    \"filter\": {\n",
    "    \"max_num_terms\": 10,\n",
    "    \"min_term_freq\": 1,\n",
    "    \"min_doc_freq\": 1,\n",
    "    \"max_doc_freq\": 10\n",
    "  }\n",
    "}"
   ]
  },
  {
   "cell_type": "code",
   "execution_count": 221,
   "metadata": {},
   "outputs": [],
   "source": [
    "termvecs = dict()\n",
    "for section in headers_id_list:\n",
    "    result = es.termvectors(index = \"2020headers_1shard\", id = section, body= termVectorBody)\n",
    "    termvecs[section] = list(result['term_vectors']['text']['terms'].keys())"
   ]
  },
  {
   "cell_type": "code",
   "execution_count": 222,
   "metadata": {},
   "outputs": [
    {
     "name": "stdout",
     "output_type": "stream",
     "text": [
      "Applying the APM APP to SSP ACOs \n",
      " ['app', 'category', 'measure', 'measures', 'mips', 'quality', 'report', 'reporting', 'scoring', 'set'] \n",
      "\n",
      "\n",
      "Revising the SSP Quality Performance Standard \n",
      " ['40th', 'category', 'facility', 'mips', 'percentile', 'quality', 'score', 'scores', 'scoring', 'standard'] \n",
      "\n",
      "\n",
      "Comment Solicitation: EUC Policy for 2020 \n",
      " ['2020', 'circumstances', 'completely', 'extreme', 'measures', 'phe', 'quality', 'report', 'score', 'uncontrollable'] \n",
      "\n",
      "\n",
      "Updating Primary Care Services Definition for Assignment \n",
      " ['assignment', 'care', 'code', 'codes', 'cpt', 'management', 'primary', 'service', 'services', 'snf'] \n",
      "\n",
      "\n",
      "Quality Redesign: Use of ACO Quality Performance in Determining Shared Savings and Losses \n",
      " ['d', 'enhanced', 'level', 'loss', 'maximum', 'percent', 'quality', 'rate', 'sided', 'track'] \n",
      "\n",
      "\n",
      "Quality Redesign: Compliance with the Quality Performance Standard \n",
      " [\"aco's\", 'agreement', 'consecutive', 'entering', 'failed', 'meet', 'participation', 'quality', 'standard', 'terminate'] \n",
      "\n",
      "\n",
      "Proposed Changes to CAHPS for 2020 \n",
      " ['2020', 'administration', 'beneficiaries', 'cahps', 'care', 'pandemic', 'primary', 'sample', 'survey', 'visits'] \n",
      "\n",
      "\n",
      "Applicability of Policies to Track 1+ Model ACOs \n",
      " ['agreement', 'home', 'infusion', 'model', 'notification', 'options', 'rule', 'section', 'therapy', 'track'] \n",
      "\n",
      "\n",
      "Revising Policy for Determining the Amount of Repayment Mechanism \n",
      " ['425.204', 'agreement', 'amount', 'arrangement', 'existing', 'f', 'mechanism', 'renewing', 'repayment', 'support'] \n",
      "\n",
      "\n",
      "Quality Redesign: Proposed Technical Changes to Quality Regulation Text \n",
      " ['425.510', '425.512', 'add', 'description', 'january', 'quality', 'reference', 'specifies', 'standard', 'subpart'] \n",
      "\n",
      "\n",
      "Comment Solicitation: EUC Policy for 2021 and beyond \n",
      " ['affected', 'category', 'circumstance', 'circumstances', 'extreme', 'impacted', 'mips', 'quality', 'score', 'uncontrollable'] \n",
      "\n",
      "\n",
      "Updating the Process Used to validate ACO Quality Data Reporting \n",
      " ['audit', 'match', 'medical', 'mips', 'process', 'quality', 'rate', 'records', 'validate', 'validation'] \n",
      "\n",
      "\n"
     ]
    }
   ],
   "source": [
    "for key, value in termvecs.items():\n",
    "    print(key, \"\\n\", value, \"\\n\\n\")"
   ]
  },
  {
   "cell_type": "markdown",
   "metadata": {},
   "source": [
    "## EXCEL COMMENTS"
   ]
  },
  {
   "cell_type": "code",
   "execution_count": 307,
   "metadata": {},
   "outputs": [],
   "source": [
    "excel2020 = {num:text for num, text in zip(data[\"comment_id\"], data[\"Comment text\"])}"
   ]
  },
  {
   "cell_type": "markdown",
   "metadata": {},
   "source": [
    "### Write to .json"
   ]
  },
  {
   "cell_type": "code",
   "execution_count": 310,
   "metadata": {},
   "outputs": [],
   "source": [
    "dump = json.dumps(excel2020)\n",
    "f = open('excel2020.json','w')\n",
    "f.write(dump)\n",
    "f.close()"
   ]
  },
  {
   "cell_type": "markdown",
   "metadata": {},
   "source": [
    "## Remove duplicate excel comments"
   ]
  },
  {
   "cell_type": "code",
   "execution_count": 311,
   "metadata": {},
   "outputs": [],
   "source": [
    "list_excel2020 = list(excel2020.values())"
   ]
  },
  {
   "cell_type": "code",
   "execution_count": 312,
   "metadata": {},
   "outputs": [
    {
     "name": "stdout",
     "output_type": "stream",
     "text": [
      "96\n"
     ]
    }
   ],
   "source": [
    "from DeDuper import *\n",
    "duplicates = getDupes(list_excel2020)\n",
    "print(len(duplicates))"
   ]
  },
  {
   "cell_type": "markdown",
   "metadata": {},
   "source": [
    "### Examine Duplicates"
   ]
  },
  {
   "cell_type": "code",
   "execution_count": 313,
   "metadata": {},
   "outputs": [],
   "source": [
    "dupdict = {}\n",
    "for i, dup in enumerate(duplicates):\n",
    "    dupdict[i] = [list_excel2020[idx][0:120] for idx in dup]"
   ]
  },
  {
   "cell_type": "code",
   "execution_count": 314,
   "metadata": {},
   "outputs": [],
   "source": [
    "#dupdict"
   ]
  },
  {
   "cell_type": "markdown",
   "metadata": {},
   "source": [
    "### Remove Them"
   ]
  },
  {
   "cell_type": "code",
   "execution_count": 315,
   "metadata": {},
   "outputs": [],
   "source": [
    "tb_deleted = []\n",
    "for num, duplist in enumerate(duplicates):\n",
    "    for idx, comment in enumerate(list_excel2020):\n",
    "        if idx in duplist[:-1]:\n",
    "            tb_deleted.append(idx)"
   ]
  },
  {
   "cell_type": "code",
   "execution_count": 316,
   "metadata": {},
   "outputs": [
    {
     "data": {
      "text/plain": [
       "239"
      ]
     },
     "execution_count": 316,
     "metadata": {},
     "output_type": "execute_result"
    }
   ],
   "source": [
    "len(tb_deleted)"
   ]
  },
  {
   "cell_type": "code",
   "execution_count": 317,
   "metadata": {},
   "outputs": [],
   "source": [
    "unique_comments2020 = {key:value for key, value in excel2020.items() if key not in tb_deleted}"
   ]
  },
  {
   "cell_type": "code",
   "execution_count": 318,
   "metadata": {},
   "outputs": [
    {
     "data": {
      "text/plain": [
       "294"
      ]
     },
     "execution_count": 318,
     "metadata": {},
     "output_type": "execute_result"
    }
   ],
   "source": [
    "len(unique_comments2020)"
   ]
  },
  {
   "cell_type": "markdown",
   "metadata": {},
   "source": [
    "## Create Truth Dictionary"
   ]
  },
  {
   "cell_type": "code",
   "execution_count": 322,
   "metadata": {},
   "outputs": [],
   "source": [
    "dup_topics = {}\n",
    "for dup_list in duplicates: #iterate through the duplicate lists\n",
    "    topic_list = []\n",
    "    for dup in dup_list: #iterate through the comments\n",
    "        topic_list.append(data.loc[data[\"comment_id\"]==dup, 'Topic'].iloc[0]) #find topic for that comment\n",
    "    dup_topics[int(dup)] = list(set(topic_list)) #choose last comment in list, map it to only unique topics in that duplicates list\n",
    "unique_only = [idx for idx in unique_comments2020.keys() if idx not in dup_topics.keys()]\n",
    "for unique in unique_only:\n",
    "    dup_topics[int(unique)] = [data.loc[data['comment_id']==unique, 'Topic'].iloc[0]]"
   ]
  },
  {
   "cell_type": "code",
   "execution_count": 323,
   "metadata": {},
   "outputs": [],
   "source": [
    "truth_dict = dict(sorted(dup_topics.items()))"
   ]
  },
  {
   "cell_type": "code",
   "execution_count": 324,
   "metadata": {},
   "outputs": [
    {
     "data": {
      "text/plain": [
       "294"
      ]
     },
     "execution_count": 324,
     "metadata": {},
     "output_type": "execute_result"
    }
   ],
   "source": [
    "len(truth_dict)"
   ]
  },
  {
   "cell_type": "markdown",
   "metadata": {},
   "source": [
    "### Write truth_dict"
   ]
  },
  {
   "cell_type": "code",
   "execution_count": 325,
   "metadata": {},
   "outputs": [],
   "source": [
    "dump = json.dumps(truth_dict)\n",
    "f = open('truth_dict2020.json','w')\n",
    "f.write(dump)\n",
    "f.close()"
   ]
  },
  {
   "cell_type": "markdown",
   "metadata": {},
   "source": [
    "### Read truth_dict (avoid running duplicates)"
   ]
  },
  {
   "cell_type": "code",
   "execution_count": 45,
   "metadata": {},
   "outputs": [],
   "source": [
    "with open('truth_dict2020.json') as f:\n",
    "    truth_dict = json.load(f)\n",
    "    truth_dict = {int(key):value for key, value in truth_dict.items()}"
   ]
  },
  {
   "cell_type": "markdown",
   "metadata": {},
   "source": [
    "### Create Unique DataFrame with topics as columns, ones and zeroes"
   ]
  },
  {
   "cell_type": "code",
   "execution_count": 22,
   "metadata": {},
   "outputs": [],
   "source": [
    "all_unique_data = data.loc[data['comment_id'].isin(truth_dict.keys())]\n",
    "topics = list(all_unique_data.Topic.unique())"
   ]
  },
  {
   "cell_type": "code",
   "execution_count": 23,
   "metadata": {},
   "outputs": [
    {
     "data": {
      "text/html": [
       "<div>\n",
       "<style scoped>\n",
       "    .dataframe tbody tr th:only-of-type {\n",
       "        vertical-align: middle;\n",
       "    }\n",
       "\n",
       "    .dataframe tbody tr th {\n",
       "        vertical-align: top;\n",
       "    }\n",
       "\n",
       "    .dataframe thead th {\n",
       "        text-align: right;\n",
       "    }\n",
       "</style>\n",
       "<table border=\"1\" class=\"dataframe\">\n",
       "  <thead>\n",
       "    <tr style=\"text-align: right;\">\n",
       "      <th></th>\n",
       "      <th>Primary</th>\n",
       "      <th>Tracking Number</th>\n",
       "      <th>Organization</th>\n",
       "      <th>Topic</th>\n",
       "      <th>Supportive?</th>\n",
       "      <th>Comment text</th>\n",
       "      <th>Unique Flag</th>\n",
       "      <th>HeavyHitter</th>\n",
       "      <th>Modified</th>\n",
       "      <th>Form Letter?</th>\n",
       "      <th>...</th>\n",
       "      <th>Revising the SSP Quality Performance Standard</th>\n",
       "      <th>Comment Solicitation: EUC Policy for 2020</th>\n",
       "      <th>Comment Solicitation: EUC Policy for 2021 and beyond</th>\n",
       "      <th>Updating Primary Care Services Definition for Assignment</th>\n",
       "      <th>Other: Unsolicited</th>\n",
       "      <th>Quality Redesign: Use of ACO Quality Performance in Determining Shared Savings and Losses</th>\n",
       "      <th>Quality Redesign: Compliance with the Quality Performance Standard</th>\n",
       "      <th>Proposed Changes to CAHPS for 2020</th>\n",
       "      <th>Revising Policy for Determining the Amount of Repayment Mechanism</th>\n",
       "      <th>Applicability of Policies to Track 1+ Model ACOs</th>\n",
       "    </tr>\n",
       "  </thead>\n",
       "  <tbody>\n",
       "    <tr>\n",
       "      <th>0</th>\n",
       "      <td>CMS-2020-0088-9495</td>\n",
       "      <td>1k4-9ivz-162j</td>\n",
       "      <td>MarsdenAdvisors</td>\n",
       "      <td>Applying the APM APP to SSP ACOs</td>\n",
       "      <td>Mixed</td>\n",
       "      <td>We are part of a MIPS APM that consistently sc...</td>\n",
       "      <td>1</td>\n",
       "      <td>NaN</td>\n",
       "      <td>2020-09-14 14:32:16</td>\n",
       "      <td>NaN</td>\n",
       "      <td>...</td>\n",
       "      <td>0.0</td>\n",
       "      <td>0.0</td>\n",
       "      <td>0.0</td>\n",
       "      <td>0.0</td>\n",
       "      <td>0.0</td>\n",
       "      <td>0.0</td>\n",
       "      <td>0.0</td>\n",
       "      <td>0.0</td>\n",
       "      <td>0.0</td>\n",
       "      <td>0.0</td>\n",
       "    </tr>\n",
       "    <tr>\n",
       "      <th>2</th>\n",
       "      <td>CMS-2020-0088-8582</td>\n",
       "      <td>kev-e48h-ghk4</td>\n",
       "      <td>Kari Kerstetter</td>\n",
       "      <td>Applying the APM APP to SSP ACOs</td>\n",
       "      <td>Opposed</td>\n",
       "      <td>Thank you for the opportunity to provide publi...</td>\n",
       "      <td>1</td>\n",
       "      <td>NaN</td>\n",
       "      <td>2020-10-09 11:23:30</td>\n",
       "      <td>NaN</td>\n",
       "      <td>...</td>\n",
       "      <td>0.0</td>\n",
       "      <td>0.0</td>\n",
       "      <td>0.0</td>\n",
       "      <td>0.0</td>\n",
       "      <td>0.0</td>\n",
       "      <td>0.0</td>\n",
       "      <td>0.0</td>\n",
       "      <td>0.0</td>\n",
       "      <td>0.0</td>\n",
       "      <td>0.0</td>\n",
       "    </tr>\n",
       "    <tr>\n",
       "      <th>3</th>\n",
       "      <td>CMS-2020-0088-8582</td>\n",
       "      <td>kev-e48h-ghk4</td>\n",
       "      <td>Kari Kerstetter</td>\n",
       "      <td>Revising the SSP Quality Performance Standard</td>\n",
       "      <td>Opposed</td>\n",
       "      <td>...In addition, the move to a 4th decile ACO q...</td>\n",
       "      <td>0</td>\n",
       "      <td>NaN</td>\n",
       "      <td>2020-10-09 11:23:30</td>\n",
       "      <td>NaN</td>\n",
       "      <td>...</td>\n",
       "      <td>0.0</td>\n",
       "      <td>0.0</td>\n",
       "      <td>0.0</td>\n",
       "      <td>0.0</td>\n",
       "      <td>0.0</td>\n",
       "      <td>0.0</td>\n",
       "      <td>0.0</td>\n",
       "      <td>0.0</td>\n",
       "      <td>0.0</td>\n",
       "      <td>0.0</td>\n",
       "    </tr>\n",
       "    <tr>\n",
       "      <th>4</th>\n",
       "      <td>CMS-2020-0088-31162</td>\n",
       "      <td>1k4-9jcr-57bp</td>\n",
       "      <td>PBACO Holding, LLC (PBACO)</td>\n",
       "      <td>Applying the APM APP to SSP ACOs</td>\n",
       "      <td>Opposed</td>\n",
       "      <td>We respectfully decline from supporting CMS pr...</td>\n",
       "      <td>1</td>\n",
       "      <td>NaN</td>\n",
       "      <td>2020-10-08 18:18:49</td>\n",
       "      <td>NaN</td>\n",
       "      <td>...</td>\n",
       "      <td>0.0</td>\n",
       "      <td>0.0</td>\n",
       "      <td>0.0</td>\n",
       "      <td>0.0</td>\n",
       "      <td>0.0</td>\n",
       "      <td>0.0</td>\n",
       "      <td>0.0</td>\n",
       "      <td>0.0</td>\n",
       "      <td>0.0</td>\n",
       "      <td>0.0</td>\n",
       "    </tr>\n",
       "    <tr>\n",
       "      <th>5</th>\n",
       "      <td>CMS-2020-0088-31162</td>\n",
       "      <td>1k4-9jcr-57bp</td>\n",
       "      <td>PBACO Holding, LLC (PBACO)</td>\n",
       "      <td>Applying the APM APP to SSP ACOs</td>\n",
       "      <td>Opposed</td>\n",
       "      <td>PBACO is in favor of reducing administrative b...</td>\n",
       "      <td>0</td>\n",
       "      <td>NaN</td>\n",
       "      <td>2020-10-08 18:18:49</td>\n",
       "      <td>NaN</td>\n",
       "      <td>...</td>\n",
       "      <td>0.0</td>\n",
       "      <td>0.0</td>\n",
       "      <td>0.0</td>\n",
       "      <td>0.0</td>\n",
       "      <td>0.0</td>\n",
       "      <td>0.0</td>\n",
       "      <td>0.0</td>\n",
       "      <td>0.0</td>\n",
       "      <td>0.0</td>\n",
       "      <td>0.0</td>\n",
       "    </tr>\n",
       "    <tr>\n",
       "      <th>...</th>\n",
       "      <td>...</td>\n",
       "      <td>...</td>\n",
       "      <td>...</td>\n",
       "      <td>...</td>\n",
       "      <td>...</td>\n",
       "      <td>...</td>\n",
       "      <td>...</td>\n",
       "      <td>...</td>\n",
       "      <td>...</td>\n",
       "      <td>...</td>\n",
       "      <td>...</td>\n",
       "      <td>...</td>\n",
       "      <td>...</td>\n",
       "      <td>...</td>\n",
       "      <td>...</td>\n",
       "      <td>...</td>\n",
       "      <td>...</td>\n",
       "      <td>...</td>\n",
       "      <td>...</td>\n",
       "      <td>...</td>\n",
       "      <td>...</td>\n",
       "    </tr>\n",
       "    <tr>\n",
       "      <th>517</th>\n",
       "      <td>CMS-2020-0088-11199</td>\n",
       "      <td>1k4-9j18-zaey</td>\n",
       "      <td>Connected Health Initiative</td>\n",
       "      <td>Other: Unsolicited</td>\n",
       "      <td>Other - Unsolicited</td>\n",
       "      <td>To date, CMS has not discussed digital health ...</td>\n",
       "      <td>1</td>\n",
       "      <td>NaN</td>\n",
       "      <td>2020-09-24 12:33:17</td>\n",
       "      <td>NaN</td>\n",
       "      <td>...</td>\n",
       "      <td>0.0</td>\n",
       "      <td>0.0</td>\n",
       "      <td>0.0</td>\n",
       "      <td>0.0</td>\n",
       "      <td>0.0</td>\n",
       "      <td>0.0</td>\n",
       "      <td>0.0</td>\n",
       "      <td>0.0</td>\n",
       "      <td>0.0</td>\n",
       "      <td>0.0</td>\n",
       "    </tr>\n",
       "    <tr>\n",
       "      <th>524</th>\n",
       "      <td>CMS-2020-0088-10979</td>\n",
       "      <td>kf5-rva9-6mog</td>\n",
       "      <td>Association for Clinical Oncology</td>\n",
       "      <td>Comment Solicitation: EUC Policy for 2020</td>\n",
       "      <td>Supportive</td>\n",
       "      <td>ASCO supports the agency’s proposals for flexi...</td>\n",
       "      <td>0</td>\n",
       "      <td>NaN</td>\n",
       "      <td>2020-09-22 10:23:47</td>\n",
       "      <td>NaN</td>\n",
       "      <td>...</td>\n",
       "      <td>0.0</td>\n",
       "      <td>0.0</td>\n",
       "      <td>0.0</td>\n",
       "      <td>0.0</td>\n",
       "      <td>0.0</td>\n",
       "      <td>0.0</td>\n",
       "      <td>0.0</td>\n",
       "      <td>0.0</td>\n",
       "      <td>0.0</td>\n",
       "      <td>0.0</td>\n",
       "    </tr>\n",
       "    <tr>\n",
       "      <th>530</th>\n",
       "      <td>CMS-2020-0088-10352</td>\n",
       "      <td>kf2-z7zt-wvsk</td>\n",
       "      <td>American College of Cardiology (ACC)</td>\n",
       "      <td>Other: Unsolicited</td>\n",
       "      <td>Other - Unsolicited</td>\n",
       "      <td>In addition, the ACC requests more clarity on ...</td>\n",
       "      <td>0</td>\n",
       "      <td>NaN</td>\n",
       "      <td>2020-09-23 17:46:39</td>\n",
       "      <td>NaN</td>\n",
       "      <td>...</td>\n",
       "      <td>0.0</td>\n",
       "      <td>0.0</td>\n",
       "      <td>0.0</td>\n",
       "      <td>0.0</td>\n",
       "      <td>0.0</td>\n",
       "      <td>0.0</td>\n",
       "      <td>0.0</td>\n",
       "      <td>0.0</td>\n",
       "      <td>0.0</td>\n",
       "      <td>0.0</td>\n",
       "    </tr>\n",
       "    <tr>\n",
       "      <th>533</th>\n",
       "      <td>CMS-2020-0088-0029</td>\n",
       "      <td>kdj-2v1r-x4wk</td>\n",
       "      <td>Cynthia Munshell</td>\n",
       "      <td>Other: Unsolicited</td>\n",
       "      <td>Other - Unsolicited</td>\n",
       "      <td>(UNCLEAR IF SSP) I am writing to recommend tha...</td>\n",
       "      <td>1</td>\n",
       "      <td>NaN</td>\n",
       "      <td>2020-08-14 15:20:52</td>\n",
       "      <td>NaN</td>\n",
       "      <td>...</td>\n",
       "      <td>0.0</td>\n",
       "      <td>0.0</td>\n",
       "      <td>0.0</td>\n",
       "      <td>0.0</td>\n",
       "      <td>0.0</td>\n",
       "      <td>0.0</td>\n",
       "      <td>0.0</td>\n",
       "      <td>0.0</td>\n",
       "      <td>0.0</td>\n",
       "      <td>0.0</td>\n",
       "    </tr>\n",
       "    <tr>\n",
       "      <th>534</th>\n",
       "      <td>CMS-2020-0088-0017</td>\n",
       "      <td>1k4-9ial-4pyr</td>\n",
       "      <td>Stephen Bushay, Atlanticare</td>\n",
       "      <td>Updating Primary Care Services Definition for ...</td>\n",
       "      <td>Supportive</td>\n",
       "      <td>CMS needs to continue to pay for Telehealth fo...</td>\n",
       "      <td>1</td>\n",
       "      <td>NaN</td>\n",
       "      <td>2020-08-26 13:54:45</td>\n",
       "      <td>NaN</td>\n",
       "      <td>...</td>\n",
       "      <td>0.0</td>\n",
       "      <td>0.0</td>\n",
       "      <td>0.0</td>\n",
       "      <td>0.0</td>\n",
       "      <td>0.0</td>\n",
       "      <td>0.0</td>\n",
       "      <td>0.0</td>\n",
       "      <td>0.0</td>\n",
       "      <td>0.0</td>\n",
       "      <td>0.0</td>\n",
       "    </tr>\n",
       "  </tbody>\n",
       "</table>\n",
       "<p>294 rows × 24 columns</p>\n",
       "</div>"
      ],
      "text/plain": [
       "                 Primary Tracking Number  \\\n",
       "0     CMS-2020-0088-9495   1k4-9ivz-162j   \n",
       "2     CMS-2020-0088-8582   kev-e48h-ghk4   \n",
       "3     CMS-2020-0088-8582   kev-e48h-ghk4   \n",
       "4    CMS-2020-0088-31162   1k4-9jcr-57bp   \n",
       "5    CMS-2020-0088-31162   1k4-9jcr-57bp   \n",
       "..                   ...             ...   \n",
       "517  CMS-2020-0088-11199   1k4-9j18-zaey   \n",
       "524  CMS-2020-0088-10979   kf5-rva9-6mog   \n",
       "530  CMS-2020-0088-10352   kf2-z7zt-wvsk   \n",
       "533   CMS-2020-0088-0029   kdj-2v1r-x4wk   \n",
       "534   CMS-2020-0088-0017   1k4-9ial-4pyr   \n",
       "\n",
       "                             Organization  \\\n",
       "0                         MarsdenAdvisors   \n",
       "2                         Kari Kerstetter   \n",
       "3                         Kari Kerstetter   \n",
       "4              PBACO Holding, LLC (PBACO)   \n",
       "5              PBACO Holding, LLC (PBACO)   \n",
       "..                                    ...   \n",
       "517           Connected Health Initiative   \n",
       "524     Association for Clinical Oncology   \n",
       "530  American College of Cardiology (ACC)   \n",
       "533                      Cynthia Munshell   \n",
       "534           Stephen Bushay, Atlanticare   \n",
       "\n",
       "                                                 Topic          Supportive?  \\\n",
       "0                     Applying the APM APP to SSP ACOs                Mixed   \n",
       "2                     Applying the APM APP to SSP ACOs              Opposed   \n",
       "3        Revising the SSP Quality Performance Standard              Opposed   \n",
       "4                     Applying the APM APP to SSP ACOs              Opposed   \n",
       "5                     Applying the APM APP to SSP ACOs              Opposed   \n",
       "..                                                 ...                  ...   \n",
       "517                                 Other: Unsolicited  Other - Unsolicited   \n",
       "524          Comment Solicitation: EUC Policy for 2020           Supportive   \n",
       "530                                 Other: Unsolicited  Other - Unsolicited   \n",
       "533                                 Other: Unsolicited  Other - Unsolicited   \n",
       "534  Updating Primary Care Services Definition for ...           Supportive   \n",
       "\n",
       "                                          Comment text  Unique Flag  \\\n",
       "0    We are part of a MIPS APM that consistently sc...            1   \n",
       "2    Thank you for the opportunity to provide publi...            1   \n",
       "3    ...In addition, the move to a 4th decile ACO q...            0   \n",
       "4    We respectfully decline from supporting CMS pr...            1   \n",
       "5    PBACO is in favor of reducing administrative b...            0   \n",
       "..                                                 ...          ...   \n",
       "517  To date, CMS has not discussed digital health ...            1   \n",
       "524  ASCO supports the agency’s proposals for flexi...            0   \n",
       "530  In addition, the ACC requests more clarity on ...            0   \n",
       "533  (UNCLEAR IF SSP) I am writing to recommend tha...            1   \n",
       "534  CMS needs to continue to pay for Telehealth fo...            1   \n",
       "\n",
       "     HeavyHitter            Modified  Form Letter?  ...  \\\n",
       "0            NaN 2020-09-14 14:32:16           NaN  ...   \n",
       "2            NaN 2020-10-09 11:23:30           NaN  ...   \n",
       "3            NaN 2020-10-09 11:23:30           NaN  ...   \n",
       "4            NaN 2020-10-08 18:18:49           NaN  ...   \n",
       "5            NaN 2020-10-08 18:18:49           NaN  ...   \n",
       "..           ...                 ...           ...  ...   \n",
       "517          NaN 2020-09-24 12:33:17           NaN  ...   \n",
       "524          NaN 2020-09-22 10:23:47           NaN  ...   \n",
       "530          NaN 2020-09-23 17:46:39           NaN  ...   \n",
       "533          NaN 2020-08-14 15:20:52           NaN  ...   \n",
       "534          NaN 2020-08-26 13:54:45           NaN  ...   \n",
       "\n",
       "     Revising the SSP Quality Performance Standard  \\\n",
       "0                                              0.0   \n",
       "2                                              0.0   \n",
       "3                                              0.0   \n",
       "4                                              0.0   \n",
       "5                                              0.0   \n",
       "..                                             ...   \n",
       "517                                            0.0   \n",
       "524                                            0.0   \n",
       "530                                            0.0   \n",
       "533                                            0.0   \n",
       "534                                            0.0   \n",
       "\n",
       "    Comment Solicitation: EUC Policy for 2020  \\\n",
       "0                                         0.0   \n",
       "2                                         0.0   \n",
       "3                                         0.0   \n",
       "4                                         0.0   \n",
       "5                                         0.0   \n",
       "..                                        ...   \n",
       "517                                       0.0   \n",
       "524                                       0.0   \n",
       "530                                       0.0   \n",
       "533                                       0.0   \n",
       "534                                       0.0   \n",
       "\n",
       "     Comment Solicitation: EUC Policy for 2021 and beyond  \\\n",
       "0                                                  0.0      \n",
       "2                                                  0.0      \n",
       "3                                                  0.0      \n",
       "4                                                  0.0      \n",
       "5                                                  0.0      \n",
       "..                                                 ...      \n",
       "517                                                0.0      \n",
       "524                                                0.0      \n",
       "530                                                0.0      \n",
       "533                                                0.0      \n",
       "534                                                0.0      \n",
       "\n",
       "     Updating Primary Care Services Definition for Assignment  \\\n",
       "0                                                  0.0          \n",
       "2                                                  0.0          \n",
       "3                                                  0.0          \n",
       "4                                                  0.0          \n",
       "5                                                  0.0          \n",
       "..                                                 ...          \n",
       "517                                                0.0          \n",
       "524                                                0.0          \n",
       "530                                                0.0          \n",
       "533                                                0.0          \n",
       "534                                                0.0          \n",
       "\n",
       "     Other: Unsolicited  \\\n",
       "0                   0.0   \n",
       "2                   0.0   \n",
       "3                   0.0   \n",
       "4                   0.0   \n",
       "5                   0.0   \n",
       "..                  ...   \n",
       "517                 0.0   \n",
       "524                 0.0   \n",
       "530                 0.0   \n",
       "533                 0.0   \n",
       "534                 0.0   \n",
       "\n",
       "     Quality Redesign: Use of ACO Quality Performance in Determining Shared Savings and Losses  \\\n",
       "0                                                  0.0                                           \n",
       "2                                                  0.0                                           \n",
       "3                                                  0.0                                           \n",
       "4                                                  0.0                                           \n",
       "5                                                  0.0                                           \n",
       "..                                                 ...                                           \n",
       "517                                                0.0                                           \n",
       "524                                                0.0                                           \n",
       "530                                                0.0                                           \n",
       "533                                                0.0                                           \n",
       "534                                                0.0                                           \n",
       "\n",
       "     Quality Redesign: Compliance with the Quality Performance Standard  \\\n",
       "0                                                  0.0                    \n",
       "2                                                  0.0                    \n",
       "3                                                  0.0                    \n",
       "4                                                  0.0                    \n",
       "5                                                  0.0                    \n",
       "..                                                 ...                    \n",
       "517                                                0.0                    \n",
       "524                                                0.0                    \n",
       "530                                                0.0                    \n",
       "533                                                0.0                    \n",
       "534                                                0.0                    \n",
       "\n",
       "     Proposed Changes to CAHPS for 2020  \\\n",
       "0                                   0.0   \n",
       "2                                   0.0   \n",
       "3                                   0.0   \n",
       "4                                   0.0   \n",
       "5                                   0.0   \n",
       "..                                  ...   \n",
       "517                                 0.0   \n",
       "524                                 0.0   \n",
       "530                                 0.0   \n",
       "533                                 0.0   \n",
       "534                                 0.0   \n",
       "\n",
       "     Revising Policy for Determining the Amount of Repayment Mechanism  \\\n",
       "0                                                  0.0                   \n",
       "2                                                  0.0                   \n",
       "3                                                  0.0                   \n",
       "4                                                  0.0                   \n",
       "5                                                  0.0                   \n",
       "..                                                 ...                   \n",
       "517                                                0.0                   \n",
       "524                                                0.0                   \n",
       "530                                                0.0                   \n",
       "533                                                0.0                   \n",
       "534                                                0.0                   \n",
       "\n",
       "     Applicability of Policies to Track 1+ Model ACOs  \n",
       "0                                                 0.0  \n",
       "2                                                 0.0  \n",
       "3                                                 0.0  \n",
       "4                                                 0.0  \n",
       "5                                                 0.0  \n",
       "..                                                ...  \n",
       "517                                               0.0  \n",
       "524                                               0.0  \n",
       "530                                               0.0  \n",
       "533                                               0.0  \n",
       "534                                               0.0  \n",
       "\n",
       "[294 rows x 24 columns]"
      ]
     },
     "execution_count": 23,
     "metadata": {},
     "output_type": "execute_result"
    }
   ],
   "source": [
    "topic_df = all_unique_data.copy()\n",
    "for topic in topics:\n",
    "    topic_df[topic] = np.zeros(len(all_unique_data.Topic))\n",
    "topic_df"
   ]
  },
  {
   "cell_type": "code",
   "execution_count": 24,
   "metadata": {},
   "outputs": [
    {
     "name": "stderr",
     "output_type": "stream",
     "text": [
      "<ipython-input-24-aaa36271f3c5>:4: SettingWithCopyWarning: \n",
      "A value is trying to be set on a copy of a slice from a DataFrame\n",
      "\n",
      "See the caveats in the documentation: https://pandas.pydata.org/pandas-docs/stable/user_guide/indexing.html#returning-a-view-versus-a-copy\n",
      "  topic_df[topic][key] = 1\n"
     ]
    }
   ],
   "source": [
    "for key, value in truth_dict.items():\n",
    "    for topic in topics:\n",
    "        if topic in value:\n",
    "            topic_df[topic][key] = 1\n",
    "topic_df[topics] = topic_df[topics].astype(int)"
   ]
  },
  {
   "cell_type": "code",
   "execution_count": 25,
   "metadata": {},
   "outputs": [
    {
     "data": {
      "text/plain": [
       "Applying the APM APP to SSP ACOs                                                             125\n",
       "Revising the SSP Quality Performance Standard                                                 34\n",
       "Comment Solicitation: EUC Policy for 2020                                                     22\n",
       "Comment Solicitation: EUC Policy for 2021 and beyond                                           8\n",
       "Updating Primary Care Services Definition for Assignment                                      21\n",
       "Other: Unsolicited                                                                            14\n",
       "Quality Redesign: Use of ACO Quality Performance in Determining Shared Savings and Losses      8\n",
       "Quality Redesign: Compliance with the Quality Performance Standard                             3\n",
       "Proposed Changes to CAHPS for 2020                                                            20\n",
       "Revising Policy for Determining the Amount of Repayment Mechanism                              6\n",
       "Applicability of Policies to Track 1+ Model ACOs                                               1\n",
       "dtype: int64"
      ]
     },
     "execution_count": 25,
     "metadata": {},
     "output_type": "execute_result"
    }
   ],
   "source": [
    "topic_df[topics].sum()"
   ]
  },
  {
   "cell_type": "markdown",
   "metadata": {},
   "source": [
    "## Get only unique comments text, make lowercase, replace \\t etc."
   ]
  },
  {
   "cell_type": "code",
   "execution_count": 26,
   "metadata": {},
   "outputs": [
    {
     "ename": "NameError",
     "evalue": "name 'excel2020' is not defined",
     "output_type": "error",
     "traceback": [
      "\u001b[1;31m---------------------------------------------------------------------------\u001b[0m",
      "\u001b[1;31mNameError\u001b[0m                                 Traceback (most recent call last)",
      "\u001b[1;32m<ipython-input-26-f5e632e65c8b>\u001b[0m in \u001b[0;36m<module>\u001b[1;34m\u001b[0m\n\u001b[0;32m      1\u001b[0m unique_excel2020 = {key:value.lower().replace('\\t', \" \").replace('\\n', \" \").replace('\\r', \" \").replace('\\s', \" \")\\\n\u001b[1;32m----> 2\u001b[1;33m                     for key, value in excel2020.items() if key in list(truth_dict.keys())}\n\u001b[0m",
      "\u001b[1;31mNameError\u001b[0m: name 'excel2020' is not defined"
     ]
    }
   ],
   "source": [
    "unique_excel2020 = {key:value.lower().replace('\\t', \" \").replace('\\n', \" \").replace('\\r', \" \").replace('\\s', \" \")\\\n",
    "                    for key, value in excel2020.items() if key in list(truth_dict.keys())}"
   ]
  },
  {
   "cell_type": "markdown",
   "metadata": {},
   "source": [
    "### Write unique comments"
   ]
  },
  {
   "cell_type": "code",
   "execution_count": 341,
   "metadata": {},
   "outputs": [],
   "source": [
    "dump = json.dumps(unique_excel2020)\n",
    "f = open('unique_excel2020.json','w')\n",
    "f.write(dump)\n",
    "f.close()"
   ]
  },
  {
   "cell_type": "markdown",
   "metadata": {},
   "source": [
    "### Read unique comments (avoid running duplicates)"
   ]
  },
  {
   "cell_type": "code",
   "execution_count": 46,
   "metadata": {},
   "outputs": [],
   "source": [
    "with open('unique_excel2020.json') as f:\n",
    "    unique_excel2020 = json.load(f)\n",
    "    unique_excel2020 = {int(key):value for key, value in unique_excel2020.items()}"
   ]
  },
  {
   "cell_type": "markdown",
   "metadata": {},
   "source": [
    "## Querying ES"
   ]
  },
  {
   "cell_type": "code",
   "execution_count": 47,
   "metadata": {},
   "outputs": [],
   "source": [
    "#Single query\n",
    "def ES_search(es_index, querydict, search_type=None, size=10):\n",
    "    if search_type:\n",
    "        search = es.search(index=es_index, doc_type=\"_doc\", body={\"query\": querydict}, search_type=search_type, size=size)\n",
    "    else:\n",
    "        search = es.search(index=es_index, doc_type=\"_doc\", body={\"query\": querydict}, size=size)\n",
    "    test_dict = {}\n",
    "    if search['hits']['hits'] != []:\n",
    "        for h in search['hits']['hits']:\n",
    "            test_dict[h['_id']]=h['_score']\n",
    "    return test_dict"
   ]
  },
  {
   "cell_type": "markdown",
   "metadata": {},
   "source": [
    "### Querying Many Comments"
   ]
  },
  {
   "cell_type": "code",
   "execution_count": 48,
   "metadata": {},
   "outputs": [],
   "source": [
    "def run_large_query(comment_dict, es_index, size=10):\n",
    "    results = {}\n",
    "    for key, value in comment_dict.items():\n",
    "        query = {\"match\" : {\"text\" : value}}\n",
    "        try:\n",
    "            search1 = ES_search(es_index, query, 'dfs_query_then_fetch', size=size)\n",
    "        except ElasticsearchException as es1:\n",
    "            print(es1)\n",
    "            es.indices.refresh(index=es_index)\n",
    "            continue\n",
    "        results[key] = {section:score for section, score in search1.items()}\n",
    "        time.sleep(3)\n",
    "        es.indices.refresh(index=es_index)\n",
    "        print(key, end=' ')\n",
    "    return results"
   ]
  },
  {
   "cell_type": "code",
   "execution_count": 49,
   "metadata": {},
   "outputs": [
    {
     "name": "stdout",
     "output_type": "stream",
     "text": [
      "0 2 3 4 5 6 7 8 9 10 11 12 13 14 15 16 17 18 19 20 21 22 23 24 25 26 28 30 32 33 34 35 40 41 43 44 45 46 47 48 49 50 52 53 54 55 56 57 58 59 60 61 62 63 64 66 67 69 72 73 74 75 79 80 82 83 85 86 88 91 92 93 96 97 98 104 105 106 107 108 109 110 111 112 113 114 117 118 119 120 121 122 123 126 128 130 133 134 136 137 138 139 141 142 143 144 145 146 147 148 151 152 153 154 155 158 159 160 162 163 164 165 166 171 172 174 175 176 178 179 180 181 183 184 185 186 187 188 191 195 196 199 200 202 203 206 207 208 209 210 211 212 213 214 215 216 217 218 219 222 228 229 230 231 236 237 242 243 244 245 247 250 251 252 253 254 255 257 258 259 260 261 262 263 264 265 266 267 268 269 270 271 272 273 274 275 278 280 282 284 286 290 291 292 293 294 295 297 298 299 300 301 302 303 304 305 306 307 308 312 313 314 315 317 320 324 325 327 330 333 334 335 337 339 340 342 343 344 346 347 348 351 352 354 357 361 364 369 371 372 373 376 377 378 379 380 381 382 384 391 393 394 396 400 409 412 415 420 421 422 426 427 428 429 433 435 458 464 476 477 479 480 484 498 507 508 509 510 513 515 522 528 531 532 "
     ]
    }
   ],
   "source": [
    "hybrid_custom_results = run_large_query(unique_excel2020, \"2020hybrid_nosyn_custstop\", size=10)"
   ]
  },
  {
   "cell_type": "markdown",
   "metadata": {},
   "source": [
    "### Write to .json"
   ]
  },
  {
   "cell_type": "code",
   "execution_count": 50,
   "metadata": {},
   "outputs": [],
   "source": [
    "dump = json.dumps(hybrid_custom_results)\n",
    "f = open('2020hybrid_nosyn_custstop_10.json','w')\n",
    "f.write(dump)\n",
    "f.close()"
   ]
  },
  {
   "cell_type": "markdown",
   "metadata": {},
   "source": [
    "# Defining a Score_Results Function"
   ]
  },
  {
   "cell_type": "code",
   "execution_count": 51,
   "metadata": {},
   "outputs": [],
   "source": [
    "#Kaleb's MAP Function\n",
    "def Map_estimator(tru, pred): \n",
    "    precision = []\n",
    "    for x,y in zip(tru,pred):\n",
    "        wow = 0\n",
    "        counter = 0\n",
    "        for i, z in enumerate(y):\n",
    "            if z in x:\n",
    "                counter += 1\n",
    "                wow += 1/(i+1)\n",
    "            if i >= 1 + len(x):\n",
    "                break;\n",
    "        precision.append(wow/(counter+0.0001))\n",
    "    return np.mean(precision)"
   ]
  },
  {
   "cell_type": "code",
   "execution_count": 54,
   "metadata": {},
   "outputs": [],
   "source": [
    "def score_results(json_file, index_type): #takes .json result and \"headers\"/\"hybrid\" as input, gives pandas eval df and map as output\n",
    "    #open file\n",
    "    with open(json_file) as f:\n",
    "        custom_results = json.load(f)\n",
    "    \n",
    "    if index_type == \"hybrid\":\n",
    "        #tranlate ES keys to true rule section names, MAINTAINING ORDER\n",
    "        for key, value in custom_results.items():\n",
    "            value_list = []\n",
    "            for val_idx in value:\n",
    "                for true_key in truth_keys:\n",
    "                    if true_key in val_idx[0:-2]:\n",
    "                        value_list.append(true_key)\n",
    "                custom_results[key]=[(true_key, score) for (val_idx, score), true_key in zip(value.items(),value_list)]\n",
    "        for comment_idx, tup_list in custom_results.items():\n",
    "            score_dict = {}\n",
    "            for tup in tup_list:\n",
    "                if tup[0] in score_dict.keys():\n",
    "                    score_dict[tup[0]] += tup[1]\n",
    "                else:\n",
    "                    score_dict[tup[0]] = tup[1]\n",
    "            custom_results[comment_idx] = score_dict\n",
    "    \n",
    "\n",
    "    elif index_type == \"headers\": \n",
    "        #tranlate ES keys to true rule section names, MAINTAINING ORDER\n",
    "        for key, value in custom_results.items():\n",
    "            value_list = []\n",
    "            for val_idx, score in value.items():\n",
    "                for true_key in truth_keys:\n",
    "                    if true_key in val_idx and true_key not in value_list: \n",
    "                        value_list.append(true_key)\n",
    "                custom_results[key]={true_key: score for (val_idx, score), true_key in zip(value.items(),value_list)}     \n",
    "    \n",
    "    #Normalize results by dividing by mean\n",
    "    normalized_results = {}\n",
    "    for comment_idx, result in custom_results.items():\n",
    "        score_mean = np.mean(list(result.values()))\n",
    "        score_dict = {}\n",
    "        for rule_idx, score in result.items():\n",
    "            score_dict[rule_idx] = score/score_mean\n",
    "        normalized_results[comment_idx] = score_dict\n",
    "    normalized_lists = {comment_idx:list(score_dict.items()) for comment_idx, score_dict in normalized_results.items()}\n",
    "\n",
    "    #Merge results back together\n",
    "#     merged_results = {}\n",
    "#     for key in truth_dict.keys():\n",
    "#         merged_list = []\n",
    "#         for comment_idx, result_list in normalized_lists.items():\n",
    "#             print(comment_idx)\n",
    "#             if key in comment_idx:\n",
    "#                 merged_list.extend(result_list)\n",
    "#         merged_results[key] = merged_list\n",
    "#     merged_results = {comment_idx:sorted(result, key=lambda x:x[1], reverse=True) for comment_idx, result in merged_results.items()}\n",
    "#     for comment_idx, tup_list in merged_results.items():\n",
    "#         score_dict = {}\n",
    "#         for tup in tup_list:\n",
    "#             if tup[0] in score_dict.keys():\n",
    "#                 score_dict[tup[0]] += tup[1]\n",
    "#             else:\n",
    "#                 score_dict[tup[0]] = tup[1]\n",
    "#         merged_results[comment_idx] = score_dict\n",
    "#     merged_results = {comment_idx:dict(sorted(result.items(), key = lambda x:x[1], reverse=True)) for comment_idx, result in merged_results.items()}\n",
    "    \n",
    "    merged_results = {comment_idx:dict(sorted(result.items(), key = lambda x:x[1], reverse=True)) for comment_idx, result in normalized_results.items()}\n",
    "    clean_merged = merged_results\n",
    "    \n",
    "    #Remove frequently returned rule sections (in >80% of results)\n",
    "    all_sections = []\n",
    "    for key, result in merged_results.items():\n",
    "        all_sections.extend(section for section in result)\n",
    "    counts = {}\n",
    "    for key in truth_keys:\n",
    "        key_count = all_sections.count(key)\n",
    "        counts[key] = key_count\n",
    "    tb_removed = [section for section, count in counts.items() if count > (.8*len([len(value) for value in truth_dict.values()]))]\n",
    "    print(tb_removed)\n",
    "    \n",
    "    def comm_removed(merged_dict, tb_removed):\n",
    "        new_merged = {}\n",
    "        for com_id, x in merged_dict.items():\n",
    "            results = {}\n",
    "            for key, value in x.items():\n",
    "                if key not in tb_removed:\n",
    "                    results[key] = value \n",
    "                elif key in tb_removed:\n",
    "                    results[key] = value*.25\n",
    "                new_merged[com_id] = results\n",
    "        return new_merged\n",
    "    \n",
    "    clean_merged = comm_removed(merged_results, tb_removed)\n",
    "    clean_merged = {comment_idx:dict(sorted(result.items(), key = lambda x:x[1], reverse=True)) for comment_idx, result in clean_merged.items()}\n",
    "    \n",
    "    num_sections = {comment_idx:len(value) for comment_idx, value in clean_merged.items()}\n",
    "    \n",
    "    #create truth dict with values equal to sparse array length=29, binary\n",
    "    truth_dict_all = truth_dict.copy()   #make a copy of the truth dictionary\n",
    "    for key, value in truth_dict.items(): #for true key/val pair in dictionary\n",
    "        new_value_list = np.zeros(len(truth_keys)) #make array of zeros, of length 29 (29 rule sections)\n",
    "        for val in value: #for each rule section\n",
    "            for i in range(len(truth_keys)): #for each of 29 spots in array\n",
    "                if val == truth_keys[i]: #if rule section in current array index,\n",
    "                    new_value_list[i] = 1 #set to 1, else 0\n",
    "        truth_dict_all[key] = new_value_list\n",
    "    \n",
    "    #create header results dict with values equal to sparse array length=29, (discounted and binary versions)\n",
    "    custom_results_all = clean_merged.copy() #make copy of results\n",
    "    custom_binary_results_all = clean_merged.copy() #make copy of results\n",
    "    for key, value in clean_merged.items(): #for each comment\n",
    "        new_value_list_discounted = np.zeros(len(truth_keys)) #make array of zeros, of length 29 (29 rule sections)\n",
    "        new_value_list_binary = np.zeros(len(truth_keys)) #make array of zeros, of length 29 (29 rule sections)\n",
    "        counter = 1 #initiate counter for a query result at 1\n",
    "        for rule_section in value.keys(): #go through all rule sections in query\n",
    "            for i in range(len(truth_keys)): #for each of 29 spots in array\n",
    "                if rule_section == truth_keys[i]: #if rule section in current array index\n",
    "                    counter += 1 #add to counter\n",
    "                    #assign value to 1 for first rule section, but penalize lower scored rule sections with scores progressively lower than one\n",
    "                    new_value_list_discounted[i] = 1/math.log(counter, 2) \n",
    "                    new_value_list_binary[i] = 1 #binary means we lose the order ES returned rules in, just weights all sections equally\n",
    "        custom_results_all[key] = new_value_list_discounted\n",
    "        custom_binary_results_all[key] = new_value_list_binary\n",
    "    \n",
    "    #Get NDCG, F1 with SKlearn\n",
    "    custom_ndcg = {}\n",
    "    custom_f1 = {}\n",
    "    for (true_key, true_value), (es_key, es_value) in zip(truth_dict_all.items(), custom_results_all.items()):\n",
    "        custom_ndcg[true_key] = ndcg_score([true_value], [es_value])\n",
    "    for (true_key, true_value), (es_key, es_value) in zip(truth_dict_all.items(), custom_binary_results_all.items()):\n",
    "        custom_f1[true_key] = f1_score(true_value, es_value, zero_division=0)\n",
    "    df_eval = pd.DataFrame(data=[custom_ndcg, custom_f1]).T\n",
    "    df_eval = df_eval.rename({0:\"NDCG\", 1:\"F1\"}, axis=1)\n",
    "    \n",
    "    ap_results = Map_estimator(list(truth_dict.values()), list(clean_merged.values()))\n",
    "    \n",
    "    return df_eval, ap_results, num_sections"
   ]
  },
  {
   "cell_type": "code",
   "execution_count": 55,
   "metadata": {},
   "outputs": [
    {
     "name": "stdout",
     "output_type": "stream",
     "text": [
      "['Applying the APM APP to SSP ACOs', 'Comment Solicitation: EUC Policy for 2020', 'Proposed Changes to CAHPS for 2020']\n",
      "MAP: 0.5995076467675988\n",
      "['Applying the APM APP to SSP ACOs', 'Comment Solicitation: EUC Policy for 2020', 'Proposed Changes to CAHPS for 2020']\n",
      "5.180272108843537\n",
      "['Applying the APM APP to SSP ACOs', 'Comment Solicitation: EUC Policy for 2020', 'Proposed Changes to CAHPS for 2020']\n"
     ]
    },
    {
     "data": {
      "text/plain": [
       "NDCG    0.729432\n",
       "F1      0.336255\n",
       "dtype: float64"
      ]
     },
     "execution_count": 55,
     "metadata": {},
     "output_type": "execute_result"
    }
   ],
   "source": [
    "truth_keys = topics\n",
    "print(\"MAP:\", score_results('2020hybrid_nosyn_custstop_10.json', \"hybrid\")[1])\n",
    "print(np.mean(list(score_results('2020hybrid_nosyn_custstop_10.json', \"hybrid\")[2].values())))\n",
    "np.mean(score_results('2020hybrid_nosyn_custstop_10.json', \"hybrid\")[0])"
   ]
  },
  {
   "cell_type": "markdown",
   "metadata": {},
   "source": [
    "# Classification"
   ]
  },
  {
   "cell_type": "markdown",
   "metadata": {},
   "source": [
    "### Train/Test Split"
   ]
  },
  {
   "cell_type": "code",
   "execution_count": 64,
   "metadata": {},
   "outputs": [],
   "source": [
    "train, test = train_test_split(topic_df, test_size=0.2)"
   ]
  },
  {
   "cell_type": "code",
   "execution_count": 65,
   "metadata": {},
   "outputs": [],
   "source": [
    "train_texts = list(train[\"Comment text\"])\n",
    "test_texts = list(test[\"Comment text\"])"
   ]
  },
  {
   "cell_type": "code",
   "execution_count": 66,
   "metadata": {},
   "outputs": [
    {
     "data": {
      "text/plain": [
       "Applying the APM APP to SSP ACOs                                                             103\n",
       "Revising the SSP Quality Performance Standard                                                 29\n",
       "Comment Solicitation: EUC Policy for 2020                                                     18\n",
       "Comment Solicitation: EUC Policy for 2021 and beyond                                           4\n",
       "Updating Primary Care Services Definition for Assignment                                      17\n",
       "Other: Unsolicited                                                                            10\n",
       "Quality Redesign: Use of ACO Quality Performance in Determining Shared Savings and Losses      5\n",
       "Quality Redesign: Compliance with the Quality Performance Standard                             2\n",
       "Proposed Changes to CAHPS for 2020                                                            16\n",
       "Revising Policy for Determining the Amount of Repayment Mechanism                              6\n",
       "Applicability of Policies to Track 1+ Model ACOs                                               1\n",
       "dtype: object"
      ]
     },
     "execution_count": 66,
     "metadata": {},
     "output_type": "execute_result"
    }
   ],
   "source": [
    "train.sum(axis=0)[topics]"
   ]
  },
  {
   "cell_type": "markdown",
   "metadata": {},
   "source": [
    "## Classify All Rule Sections - TFIDF"
   ]
  },
  {
   "cell_type": "code",
   "execution_count": 67,
   "metadata": {},
   "outputs": [],
   "source": [
    "def stem_tokenize(text):\n",
    "    tokens = word_tokenize(text)\n",
    "    stems = [PorterStemmer().stem(item) for item in tokens]\n",
    "    return stems\n",
    "\n",
    "tfidf_vector = TfidfVectorizer(tokenizer=stem_tokenize, ngram_range=(1,1), max_df=0.8)\n",
    "x_train = tfidf_vector.fit_transform(train_texts)\n",
    "y_train = np.array(train[topics])\n",
    "\n",
    "x_test = tfidf_vector.transform(test_texts)\n",
    "y_test = np.array(test[topics])"
   ]
  },
  {
   "cell_type": "code",
   "execution_count": 68,
   "metadata": {},
   "outputs": [],
   "source": [
    "boost = xgb.XGBClassifier(objective='binary:logistic', use_label_encoder=False, eval_metric='logloss')\n",
    "\n",
    "multi_boost = MultiOutputClassifier(boost)\n",
    "\n",
    "multi_boost.fit(x_train, y_train)\n",
    "\n",
    "multi_boost_preds = multi_boost.predict(x_test)"
   ]
  },
  {
   "cell_type": "code",
   "execution_count": 69,
   "metadata": {},
   "outputs": [],
   "source": [
    "multi_boost_f1 = f1(y_test, multi_boost_preds, zero_division=0, average=None)"
   ]
  },
  {
   "cell_type": "code",
   "execution_count": 70,
   "metadata": {},
   "outputs": [
    {
     "data": {
      "text/plain": [
       "{'Applying the APM APP to SSP ACOs': 0.5365853658536586,\n",
       " 'Revising the SSP Quality Performance Standard': 0.28571428571428575,\n",
       " 'Comment Solicitation: EUC Policy for 2020': 0.4,\n",
       " 'Comment Solicitation: EUC Policy for 2021 and beyond': 0.0,\n",
       " 'Updating Primary Care Services Definition for Assignment': 0.0,\n",
       " 'Other: Unsolicited': 0.0,\n",
       " 'Quality Redesign: Use of ACO Quality Performance in Determining Shared Savings and Losses': 0.5,\n",
       " 'Quality Redesign: Compliance with the Quality Performance Standard': 0.0,\n",
       " 'Proposed Changes to CAHPS for 2020': 0.0,\n",
       " 'Revising Policy for Determining the Amount of Repayment Mechanism': 0.0,\n",
       " 'Applicability of Policies to Track 1+ Model ACOs': 0.0}"
      ]
     },
     "execution_count": 70,
     "metadata": {},
     "output_type": "execute_result"
    }
   ],
   "source": [
    "scores = {sec:score for (sec, score) in zip(topics, list(multi_boost_f1))}\n",
    "scores"
   ]
  },
  {
   "cell_type": "code",
   "execution_count": 71,
   "metadata": {},
   "outputs": [
    {
     "data": {
      "text/plain": [
       "0.15657269559708586"
      ]
     },
     "execution_count": 71,
     "metadata": {},
     "output_type": "execute_result"
    }
   ],
   "source": [
    "np.mean(multi_boost_f1)"
   ]
  },
  {
   "cell_type": "markdown",
   "metadata": {},
   "source": [
    "#### Identifying Most Significant Words for Classification"
   ]
  },
  {
   "cell_type": "code",
   "execution_count": 405,
   "metadata": {},
   "outputs": [
    {
     "name": "stderr",
     "output_type": "stream",
     "text": [
      "C:\\ProgramData\\Anaconda3\\lib\\site-packages\\xgboost\\sklearn.py:749: RuntimeWarning: invalid value encountered in true_divide\n",
      "  return all_features / all_features.sum()\n"
     ]
    }
   ],
   "source": [
    "features = []\n",
    "for boost in multi_boost.estimators_:\n",
    "    boost_top10 = np.argsort(-boost.feature_importances_)[0:10]\n",
    "    features.append([(tfidf_vector.get_feature_names()[feature]) for feature in boost_top10])"
   ]
  },
  {
   "cell_type": "code",
   "execution_count": 406,
   "metadata": {},
   "outputs": [
    {
     "data": {
      "text/plain": [
       "{'Applying the APM APP to SSP ACOs': (0.5,\n",
       "  ['howev',\n",
       "   'how',\n",
       "   'over',\n",
       "   '23',\n",
       "   'data',\n",
       "   'calcul',\n",
       "   'and',\n",
       "   'least',\n",
       "   'pathway',\n",
       "   'sunset']),\n",
       " 'Revising the SSP Quality Performance Standard': (0.0,\n",
       "  ['30th',\n",
       "   'against',\n",
       "   'veri',\n",
       "   'complianc',\n",
       "   'success',\n",
       "   'at',\n",
       "   'implement',\n",
       "   'address',\n",
       "   'should',\n",
       "   '40th']),\n",
       " 'Comment Solicitation: EUC Policy for 2020': (0.0,\n",
       "  ['have',\n",
       "   'uncontrol',\n",
       "   'own',\n",
       "   'measur',\n",
       "   '2020',\n",
       "   'are',\n",
       "   'extrem',\n",
       "   '-',\n",
       "   'emerg',\n",
       "   'py']),\n",
       " 'Comment Solicitation: EUC Policy for 2021 and beyond': (0.0,\n",
       "  ['affect',\n",
       "   'circumst',\n",
       "   'given',\n",
       "   'survey',\n",
       "   'further',\n",
       "   'uncontrol',\n",
       "   'mssp',\n",
       "   '2021',\n",
       "   'may',\n",
       "   'chang']),\n",
       " 'Updating Primary Care Services Definition for Assignment': (0.28571428571428575,\n",
       "  ['expand',\n",
       "   'definit',\n",
       "   'assign',\n",
       "   ',',\n",
       "   'code',\n",
       "   'therefor',\n",
       "   'support',\n",
       "   'is',\n",
       "   'and',\n",
       "   'are']),\n",
       " 'Other: Unsolicited': (0.0,\n",
       "  ['retain',\n",
       "   'consider',\n",
       "   'activ',\n",
       "   'high',\n",
       "   'made',\n",
       "   'them',\n",
       "   'app',\n",
       "   'how',\n",
       "   'report',\n",
       "   'thi']),\n",
       " 'Quality Redesign: Use of ACO Quality Performance in Determining Shared Savings and Losses': (0.0,\n",
       "  ['threshold',\n",
       "   'as',\n",
       "   'save',\n",
       "   'current',\n",
       "   'that',\n",
       "   'from',\n",
       "   'standard',\n",
       "   'percent',\n",
       "   'polici',\n",
       "   'score']),\n",
       " 'Quality Redesign: Compliance with the Quality Performance Standard': (0.0,\n",
       "  ['limit',\n",
       "   'if',\n",
       "   'standard',\n",
       "   'recommend',\n",
       "   'and',\n",
       "   'with',\n",
       "   'will',\n",
       "   'year',\n",
       "   'peer',\n",
       "   'penal']),\n",
       " 'Proposed Changes to CAHPS for 2020': (0.0,\n",
       "  ['waiv',\n",
       "   'on',\n",
       "   'mean',\n",
       "   'event',\n",
       "   'for',\n",
       "   'survey',\n",
       "   'year',\n",
       "   'cahp',\n",
       "   'penalti',\n",
       "   'report']),\n",
       " 'Revising Policy for Determining the Amount of Repayment Mechanism': (0.0,\n",
       "  ['credit',\n",
       "   'fee',\n",
       "   'mechan',\n",
       "   'move',\n",
       "   'ongo',\n",
       "   'repay',\n",
       "   'implement',\n",
       "   'as',\n",
       "   'an',\n",
       "   'cm']),\n",
       " 'Applicability of Policies to Track 1+ Model ACOs': (0.0,\n",
       "  ['#',\n",
       "   'penal',\n",
       "   'penalti',\n",
       "   'peopl',\n",
       "   'per',\n",
       "   'per-capita',\n",
       "   'percent',\n",
       "   'peer',\n",
       "   'percentag',\n",
       "   'perform'])}"
      ]
     },
     "execution_count": 406,
     "metadata": {},
     "output_type": "execute_result"
    }
   ],
   "source": [
    "important_features = {sec:feature_list for (sec, feature_list) in zip(topics, features)}\n",
    "boost_features = {key:(value,features) for (key, value), (key1, features) in zip(scores.items(), important_features.items())}\n",
    "\n",
    "boost_features"
   ]
  },
  {
   "cell_type": "markdown",
   "metadata": {},
   "source": [
    "## SCRAPE COMMENTS"
   ]
  },
  {
   "cell_type": "code",
   "execution_count": 100,
   "metadata": {},
   "outputs": [],
   "source": [
    "comment_url = \"https://mikeanders.org/data/CMS/CMS-2020-0088-1604/Comments/\""
   ]
  },
  {
   "cell_type": "code",
   "execution_count": 107,
   "metadata": {},
   "outputs": [
    {
     "name": "stdout",
     "output_type": "stream",
     "text": [
      "27263 14757 4081. 12407 9318. 7951_ 6346. 22950 25087 10310 19016 11720 5169. 11847 26170 16844 19308 5615_ 16732 29378 10132 21984 9460. 31050 27775 24212 5148. 23098 5446. 30719 20607 18248 3580. 6017. 17690 3873. 16401 11983 7781. 29013 30443 25489 13666 7303. 28679 26773 14237 26913 27652 2383. 29581 4959. 7359. 6914. 14712 7314. 6766. 17430 2725. 30465 22797 22507 2862. 11882 19051 1740. 26872 21773 13936 7426_ 12483 17048 8911. 24176 3100. 25565 21589 4851. 28195 4280. 2722. 25510 20831 22954 3805. 22975 27428 7039. 21402 28609 12890 26777 4139. 25190 23669 16279 20372 23417 18884 15849 26058 7196. 31315 15342 17861 20653 12522 23079 6932. 20846 24710 31121 16031 18438 2271. 29538 28145 2571. 12597 8130. 5170. 21016 21611 19436 10114 23130 28470 28359 7163. 24545 8714. 24722 12659 6621. 25738 29803 25459 23234 12218 21052 23291 7433. 25182 25817 12374 15718 23309 16215 8790. 5153. 9578_ 22221 8782. 22024 26763 11121 29343 14207 15870 3601. 4388. 13142 10516 13236 29831 16123 4046. 10727 13590 2479. 24553 24396 27553 31287 23208 2165. 8569. 8965. 19088 26296 19579 19450 18505 20209 20590 13500 18743 31329 2581. 16710 23034 22324 14732 26644 8533. 12087 22599 13417 18121 11302 25171 30037 28796 14666 27134 6777. 2272. 23350 14325 9724. 13054 13602 23779 17959 23898 22158 15700 29255 30264 27647 5157_ 23023 25716 11821 3132. 12554 2880. 22684 12123 28826 30517 14318 19117 28884 5143. 7382. 4710. 28663 8037. 3852. 8908. 22789 17747 14911 26546 21304 16892 8637. 4496. 18013 3870. 10973 9976. 26951 25441 9237. 22155 20130 17636 18731 21744 4780. 8162. 18711 5645. 9331. 23153 5131_ 30621 3434. 10499 30057 13070 8230. 29395 10753 14093 9455. 10597 15389 13637 6145. 12440 14475 8879. 11207 10442 19914 23543 29671 8493. 8069. 21127 28908 27410 2940. 12539 1857. 8819. 15743 3631. 22848 21709 20795 5239. 22430 29477 19243 4187. 25559 25662 19777 24632 29880 6106. 19203 29019 25306 11611 24689 20173 29730 2270. 6198. 23630 24701 4445. 26225 29470 4185. 31093 25263 18071 27251 6362. 22677 30689 25378 7130. 7820. 16236 26570 3543. 19931 22590 11578 11931 19621 9610. 8167. 12451 9921. 11911 25583 8177. 30704 19813 29436 5486. 4404. 22310 9517. 2943. 13165 15099 5779. 14069 27886 9418. 18253 18631 28213 28987 23851 2787. 11053 4911. 12769 4955. 7710. 5557. 19955 19139 11459 25232 14129 28762 14379 15726 13401 20307 7984_ 19861 15997 26693 7969. 15319 26843 3182. 22829 "
     ]
    }
   ],
   "source": [
    "response = requests.get(comment_url)\n",
    "soup = BeautifulSoup(response.text, 'html.parser')\n",
    "a_tags = soup.findAll(\"a\")\n",
    "links = [tag[\"href\"] for tag in a_tags]\n",
    "txt_links = [link for link in links if '.txt' in link]\n",
    "comments = {}\n",
    "txt_sampled = sample(txt_links, 400)\n",
    "for suffix in txt_sampled:\n",
    "    comments[suffix[14:19]] = requests.get(comment_url+suffix).text.lower()\n",
    "    print(suffix[14:19], end=\" \")"
   ]
  },
  {
   "cell_type": "markdown",
   "metadata": {},
   "source": [
    "### Write to .json"
   ]
  },
  {
   "cell_type": "code",
   "execution_count": 120,
   "metadata": {},
   "outputs": [],
   "source": [
    "comment_json = json.dumps(comments)\n",
    "f = open('comments2020.json','w')\n",
    "f.write(comment_json)\n",
    "f.close()"
   ]
  },
  {
   "cell_type": "markdown",
   "metadata": {},
   "source": [
    "### Read .json (avoid scraping comments)"
   ]
  },
  {
   "cell_type": "code",
   "execution_count": 121,
   "metadata": {},
   "outputs": [],
   "source": [
    "with open('comments2020.json') as f:\n",
    "    comments2020 = json.load(f)"
   ]
  },
  {
   "cell_type": "markdown",
   "metadata": {},
   "source": [
    "## Remove duplicate comments, comments less than 30 characters long"
   ]
  },
  {
   "cell_type": "code",
   "execution_count": 124,
   "metadata": {},
   "outputs": [
    {
     "data": {
      "text/plain": [
       "{'26913': '\\r\\n\\r\\n\\r\\n\\r\\n\\r\\n\\r\\n\\r\\n\\r\\n\\r\\n\\r\\n\\r\\n\\r\\n\\r\\n\\r\\n',\n",
       " '22797': 'please see attached letter',\n",
       " '8911.': 'see attached file(s)',\n",
       " '24176': 'see attached file(s)',\n",
       " '28195': 'see attached file(s)',\n",
       " '22954': 'see attached file(s)',\n",
       " '22975': 'please see attached file.',\n",
       " '31315': 'see attached',\n",
       " '2571.': 'see attached file(s)',\n",
       " '13590': 'see attached file(s)',\n",
       " '24553': 'see attached file(s)',\n",
       " '19450': 'see attached file(s)',\n",
       " '20209': 'see attached file(s)',\n",
       " '13417': 'please see attached file.',\n",
       " '14666': 'see attached file(s)',\n",
       " '30264': 'my letter is attached.',\n",
       " '10753': 'see attached file(s)',\n",
       " '14093': 'see attached',\n",
       " '14129': 'see attached file(s)'}"
      ]
     },
     "execution_count": 124,
     "metadata": {},
     "output_type": "execute_result"
    }
   ],
   "source": [
    "reduced_comments2020 = {key: val for key, val in comments2020.items() if len(val) >= 30}\n",
    "short_ones = {key: val for key, val in comments2020.items() if len(val) < 30}\n",
    "list_reduced_comments2020 = list(reduced_comments2020.values())\n",
    "len(reduced_comments2020)\n",
    "short_ones #these seem okay to remove"
   ]
  },
  {
   "cell_type": "code",
   "execution_count": 126,
   "metadata": {},
   "outputs": [
    {
     "name": "stdout",
     "output_type": "stream",
     "text": [
      "23\n"
     ]
    }
   ],
   "source": [
    "from DeDuper import *\n",
    "duplicates = getDupes(list_reduced_comments2020)\n",
    "print(len(duplicates))\n",
    "#duplicates"
   ]
  },
  {
   "cell_type": "markdown",
   "metadata": {},
   "source": [
    "### Examine Duplicates"
   ]
  },
  {
   "cell_type": "code",
   "execution_count": 128,
   "metadata": {},
   "outputs": [],
   "source": [
    "dupdict = {}\n",
    "for i, dup in enumerate(duplicates):\n",
    "    dupdict[i] = [list_reduced_comments2020[idx][0:120] for idx in dup]"
   ]
  },
  {
   "cell_type": "code",
   "execution_count": 130,
   "metadata": {},
   "outputs": [],
   "source": [
    "#dupdict"
   ]
  },
  {
   "cell_type": "markdown",
   "metadata": {},
   "source": [
    "### Remove Them"
   ]
  },
  {
   "cell_type": "code",
   "execution_count": 131,
   "metadata": {},
   "outputs": [],
   "source": [
    "tb_deleted = []\n",
    "for num, duplist in enumerate(duplicates):\n",
    "    for idx, comment in enumerate(list_reduced_comments2020):\n",
    "        if idx in duplist[:-1]:\n",
    "            tb_deleted.append(comment)"
   ]
  },
  {
   "cell_type": "code",
   "execution_count": 132,
   "metadata": {},
   "outputs": [
    {
     "data": {
      "text/plain": [
       "306"
      ]
     },
     "execution_count": 132,
     "metadata": {},
     "output_type": "execute_result"
    }
   ],
   "source": [
    "len(tb_deleted)"
   ]
  },
  {
   "cell_type": "code",
   "execution_count": 133,
   "metadata": {},
   "outputs": [],
   "source": [
    "unique_comments2020 = {key:value for key, value in reduced_comments2020.items() if value not in tb_deleted}"
   ]
  },
  {
   "cell_type": "code",
   "execution_count": 134,
   "metadata": {},
   "outputs": [
    {
     "data": {
      "text/plain": [
       "68"
      ]
     },
     "execution_count": 134,
     "metadata": {},
     "output_type": "execute_result"
    }
   ],
   "source": [
    "len(unique_comments2020)"
   ]
  },
  {
   "cell_type": "markdown",
   "metadata": {},
   "source": [
    "### Write to .json"
   ]
  },
  {
   "cell_type": "code",
   "execution_count": 135,
   "metadata": {},
   "outputs": [],
   "source": [
    "dump = json.dumps(unique_comments2020)\n",
    "f = open('unique_comments2020.json','w')\n",
    "f.write(dump)\n",
    "f.close()"
   ]
  },
  {
   "cell_type": "markdown",
   "metadata": {},
   "source": [
    "### Read .json (avoid running duplicates)"
   ]
  },
  {
   "cell_type": "code",
   "execution_count": 136,
   "metadata": {},
   "outputs": [],
   "source": [
    "with open('unique_comments2020.json') as f:\n",
    "    unique_comments2020 = json.load(f)"
   ]
  },
  {
   "cell_type": "markdown",
   "metadata": {},
   "source": [
    "## Split up longer comments"
   ]
  },
  {
   "cell_type": "code",
   "execution_count": 137,
   "metadata": {},
   "outputs": [],
   "source": [
    "long_comments = {key:value for key, value in unique_comments2020.items() if len(value) > 5000}"
   ]
  },
  {
   "cell_type": "code",
   "execution_count": 139,
   "metadata": {},
   "outputs": [],
   "source": [
    "expanded2020 = unique_comments2020.copy()\n",
    "for key, value in long_comments.items():\n",
    "    paragraphs = value.split('\\n')\n",
    "    for i in range(len(paragraphs) - 1):\n",
    "        while i < (len(paragraphs) - 1) and len(paragraphs[i]) < 4800:\n",
    "            paragraphs[i] += paragraphs[i+1]\n",
    "            del(paragraphs[i+1])\n",
    "    for i in range(len(paragraphs)):\n",
    "        expanded2020[key+'_'+str(i)] = paragraphs[i]\n",
    "expanded2020 = {key:value for key, value in expanded2020.items() if key not in list(long_comments.keys())}"
   ]
  },
  {
   "cell_type": "code",
   "execution_count": 141,
   "metadata": {},
   "outputs": [],
   "source": [
    "#{key:len(value) for key, value in expanded2020.items()}"
   ]
  },
  {
   "cell_type": "markdown",
   "metadata": {},
   "source": [
    "## Remove \\r, \\n, \\s, and any weird or non-ascii characters"
   ]
  },
  {
   "cell_type": "code",
   "execution_count": 142,
   "metadata": {},
   "outputs": [],
   "source": [
    "expanded2020 = {key:value.replace(\"\\r\", \" \").replace(\"\\n\", \" \").replace(\"\\s\", \" \") for key, value in expanded2020.items()}"
   ]
  },
  {
   "cell_type": "code",
   "execution_count": 143,
   "metadata": {},
   "outputs": [],
   "source": [
    "for key, value in expanded2020.items():\n",
    "    expanded2020[key] = ''.join(c for c in value if c in string.printable)"
   ]
  },
  {
   "cell_type": "markdown",
   "metadata": {},
   "source": [
    "### Write to .json"
   ]
  },
  {
   "cell_type": "code",
   "execution_count": 144,
   "metadata": {},
   "outputs": [],
   "source": [
    "dump = json.dumps(expanded2020)\n",
    "f = open('expanded2020.json','w')\n",
    "f.write(dump)\n",
    "f.close()"
   ]
  },
  {
   "cell_type": "markdown",
   "metadata": {},
   "source": [
    "### Read .json (avoid expanding/cleaning comments)"
   ]
  },
  {
   "cell_type": "code",
   "execution_count": 145,
   "metadata": {},
   "outputs": [],
   "source": [
    "with open('expanded2020.json') as f:\n",
    "    expanded2020 = json.load(f)"
   ]
  }
 ],
 "metadata": {
  "kernelspec": {
   "display_name": "Python 3",
   "language": "python",
   "name": "python3"
  },
  "language_info": {
   "codemirror_mode": {
    "name": "ipython",
    "version": 3
   },
   "file_extension": ".py",
   "mimetype": "text/x-python",
   "name": "python",
   "nbconvert_exporter": "python",
   "pygments_lexer": "ipython3",
   "version": "3.8.3"
  }
 },
 "nbformat": 4,
 "nbformat_minor": 4
}
